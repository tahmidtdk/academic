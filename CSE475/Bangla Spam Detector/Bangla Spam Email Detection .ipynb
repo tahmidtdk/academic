{
 "cells": [
  {
   "cell_type": "markdown",
   "metadata": {},
   "source": [
    "# Bangla Spam Email/Message Detection "
   ]
  },
  {
   "cell_type": "code",
   "execution_count": 1,
   "metadata": {},
   "outputs": [],
   "source": [
    "# importing libraries\n",
    "import pandas as pd\n",
    "from sklearn.feature_extraction.text import TfidfVectorizer\n",
    "from sklearn.model_selection import train_test_split\n",
    "from sklearn.naive_bayes import GaussianNB\n",
    "from sklearn.linear_model import SGDClassifier\n",
    "from sklearn.svm import SVC"
   ]
  },
  {
   "cell_type": "code",
   "execution_count": 2,
   "metadata": {},
   "outputs": [
    {
     "data": {
      "text/html": [
       "<div>\n",
       "<style scoped>\n",
       "    .dataframe tbody tr th:only-of-type {\n",
       "        vertical-align: middle;\n",
       "    }\n",
       "\n",
       "    .dataframe tbody tr th {\n",
       "        vertical-align: top;\n",
       "    }\n",
       "\n",
       "    .dataframe thead th {\n",
       "        text-align: right;\n",
       "    }\n",
       "</style>\n",
       "<table border=\"1\" class=\"dataframe\">\n",
       "  <thead>\n",
       "    <tr style=\"text-align: right;\">\n",
       "      <th></th>\n",
       "      <th>messages</th>\n",
       "      <th>message_type</th>\n",
       "    </tr>\n",
       "  </thead>\n",
       "  <tbody>\n",
       "    <tr>\n",
       "      <td>0</td>\n",
       "      <td>আপনি ১০০০০০ টাকা জিতেছেন। টাকা তুলতে প্রদত্ত ন...</td>\n",
       "      <td>স্প্যাম</td>\n",
       "    </tr>\n",
       "    <tr>\n",
       "      <td>1</td>\n",
       "      <td>ফ্রি কফি পেতে চাইলে চলে আসুন আমাদের আউটলেটে</td>\n",
       "      <td>স্প্যাম</td>\n",
       "    </tr>\n",
       "    <tr>\n",
       "      <td>2</td>\n",
       "      <td>আপনার পরীক্ষা আগামী ৫ তারিখ বনানী বিদ্যা নিকেত...</td>\n",
       "      <td>হ্যাম</td>\n",
       "    </tr>\n",
       "    <tr>\n",
       "      <td>3</td>\n",
       "      <td>আপনি বায়োমেত্রিক রেজিস্ট্রেশন না করে থাকলে আজই...</td>\n",
       "      <td>হ্যাম</td>\n",
       "    </tr>\n",
       "    <tr>\n",
       "      <td>4</td>\n",
       "      <td>মজার মজার জোকস শুনতে কল করুন ০১০০০০০০ নাম্বারে</td>\n",
       "      <td>স্প্যাম</td>\n",
       "    </tr>\n",
       "  </tbody>\n",
       "</table>\n",
       "</div>"
      ],
      "text/plain": [
       "                                            messages message_type\n",
       "0  আপনি ১০০০০০ টাকা জিতেছেন। টাকা তুলতে প্রদত্ত ন...      স্প্যাম\n",
       "1       ফ্রি কফি পেতে চাইলে চলে আসুন আমাদের আউটলেটে       স্প্যাম\n",
       "2  আপনার পরীক্ষা আগামী ৫ তারিখ বনানী বিদ্যা নিকেত...        হ্যাম\n",
       "3  আপনি বায়োমেত্রিক রেজিস্ট্রেশন না করে থাকলে আজই...        হ্যাম\n",
       "4     মজার মজার জোকস শুনতে কল করুন ০১০০০০০০ নাম্বারে      স্প্যাম"
      ]
     },
     "execution_count": 2,
     "metadata": {},
     "output_type": "execute_result"
    }
   ],
   "source": [
    "# data reading from file\n",
    "dataset = pd.read_csv(r\"bangla_spam_dataset.csv\")\n",
    "dataset.head(5)"
   ]
  },
  {
   "cell_type": "code",
   "execution_count": 3,
   "metadata": {},
   "outputs": [
    {
     "data": {
      "text/html": [
       "<div>\n",
       "<style scoped>\n",
       "    .dataframe tbody tr th:only-of-type {\n",
       "        vertical-align: middle;\n",
       "    }\n",
       "\n",
       "    .dataframe tbody tr th {\n",
       "        vertical-align: top;\n",
       "    }\n",
       "\n",
       "    .dataframe thead th {\n",
       "        text-align: right;\n",
       "    }\n",
       "</style>\n",
       "<table border=\"1\" class=\"dataframe\">\n",
       "  <thead>\n",
       "    <tr style=\"text-align: right;\">\n",
       "      <th></th>\n",
       "      <th>messages</th>\n",
       "      <th>message_type</th>\n",
       "    </tr>\n",
       "  </thead>\n",
       "  <tbody>\n",
       "    <tr>\n",
       "      <td>count</td>\n",
       "      <td>250</td>\n",
       "      <td>249</td>\n",
       "    </tr>\n",
       "    <tr>\n",
       "      <td>unique</td>\n",
       "      <td>250</td>\n",
       "      <td>2</td>\n",
       "    </tr>\n",
       "    <tr>\n",
       "      <td>top</td>\n",
       "      <td>ফুচকা খেতে ইচ্ছে করছে।</td>\n",
       "      <td>হ্যাম</td>\n",
       "    </tr>\n",
       "    <tr>\n",
       "      <td>freq</td>\n",
       "      <td>1</td>\n",
       "      <td>180</td>\n",
       "    </tr>\n",
       "  </tbody>\n",
       "</table>\n",
       "</div>"
      ],
      "text/plain": [
       "                      messages message_type\n",
       "count                      250          249\n",
       "unique                     250            2\n",
       "top     ফুচকা খেতে ইচ্ছে করছে।        হ্যাম\n",
       "freq                         1          180"
      ]
     },
     "execution_count": 3,
     "metadata": {},
     "output_type": "execute_result"
    }
   ],
   "source": [
    "dataset.describe(include = 'all')"
   ]
  },
  {
   "cell_type": "code",
   "execution_count": 4,
   "metadata": {},
   "outputs": [
    {
     "data": {
      "text/html": [
       "<div>\n",
       "<style scoped>\n",
       "    .dataframe tbody tr th:only-of-type {\n",
       "        vertical-align: middle;\n",
       "    }\n",
       "\n",
       "    .dataframe tbody tr th {\n",
       "        vertical-align: top;\n",
       "    }\n",
       "\n",
       "    .dataframe thead tr th {\n",
       "        text-align: left;\n",
       "    }\n",
       "\n",
       "    .dataframe thead tr:last-of-type th {\n",
       "        text-align: right;\n",
       "    }\n",
       "</style>\n",
       "<table border=\"1\" class=\"dataframe\">\n",
       "  <thead>\n",
       "    <tr>\n",
       "      <th></th>\n",
       "      <th colspan=\"4\" halign=\"left\">messages</th>\n",
       "    </tr>\n",
       "    <tr>\n",
       "      <th></th>\n",
       "      <th>count</th>\n",
       "      <th>unique</th>\n",
       "      <th>top</th>\n",
       "      <th>freq</th>\n",
       "    </tr>\n",
       "    <tr>\n",
       "      <th>message_type</th>\n",
       "      <th></th>\n",
       "      <th></th>\n",
       "      <th></th>\n",
       "      <th></th>\n",
       "    </tr>\n",
       "  </thead>\n",
       "  <tbody>\n",
       "    <tr>\n",
       "      <td>স্প্যাম</td>\n",
       "      <td>69</td>\n",
       "      <td>69</td>\n",
       "      <td>ছুটি উপভোগ করুন ফ্রী তেই। রেজিষ্ট্রেশন করতে মো...</td>\n",
       "      <td>1</td>\n",
       "    </tr>\n",
       "    <tr>\n",
       "      <td>হ্যাম</td>\n",
       "      <td>180</td>\n",
       "      <td>180</td>\n",
       "      <td>বিশ্বব্যাপী আন্তর্জাতিক মাতৃভাষা দিবস পালন করা...</td>\n",
       "      <td>1</td>\n",
       "    </tr>\n",
       "  </tbody>\n",
       "</table>\n",
       "</div>"
      ],
      "text/plain": [
       "             messages         \\\n",
       "                count unique   \n",
       "message_type                   \n",
       "স্প্যাম            69     69   \n",
       "হ্যাম             180    180   \n",
       "\n",
       "                                                                      \n",
       "                                                            top freq  \n",
       "message_type                                                          \n",
       "স্প্যাম       ছুটি উপভোগ করুন ফ্রী তেই। রেজিষ্ট্রেশন করতে মো...    1  \n",
       "হ্যাম         বিশ্বব্যাপী আন্তর্জাতিক মাতৃভাষা দিবস পালন করা...    1  "
      ]
     },
     "execution_count": 4,
     "metadata": {},
     "output_type": "execute_result"
    }
   ],
   "source": [
    "dataset.groupby('message_type').describe()"
   ]
  },
  {
   "cell_type": "code",
   "execution_count": 5,
   "metadata": {},
   "outputs": [
    {
     "name": "stdout",
     "output_type": "stream",
     "text": [
      "0    আপনি ১০০০০০ টাকা জিতেছেন। টাকা তুলতে প্রদত্ত ন...\n",
      "1         ফ্রি কফি পেতে চাইলে চলে আসুন আমাদের আউটলেটে \n",
      "2    আপনার পরীক্ষা আগামী ৫ তারিখ বনানী বিদ্যা নিকেত...\n",
      "3    আপনি বায়োমেত্রিক রেজিস্ট্রেশন না করে থাকলে আজই...\n",
      "4       মজার মজার জোকস শুনতে কল করুন ০১০০০০০০ নাম্বারে\n",
      "Name: messages, dtype: object\n"
     ]
    }
   ],
   "source": [
    "x_msgData = dataset.messages\n",
    "print(x_msgData.head())"
   ]
  },
  {
   "cell_type": "code",
   "execution_count": 6,
   "metadata": {},
   "outputs": [
    {
     "name": "stdout",
     "output_type": "stream",
     "text": [
      "Vector SHape:  (250, 431)\n"
     ]
    }
   ],
   "source": [
    "#vectorize messages bangla text\n",
    "vectorizer = TfidfVectorizer()\n",
    "x_vetcorMsg = vectorizer.fit_transform(x_msgData)\n",
    "\n",
    "# print(vectorizer.get_feature_names())\n",
    "print(\"Vector SHape: \",x_vetcorMsg.shape)"
   ]
  },
  {
   "cell_type": "code",
   "execution_count": 7,
   "metadata": {},
   "outputs": [],
   "source": [
    "# split test and train dataset\n",
    "x_msgTrain, x_msgTest, y_typeTrain, y_typeTest = train_test_split(x_vetcorMsg, dataset['message_type'].astype(str), test_size=0.3, random_state=20)"
   ]
  },
  {
   "cell_type": "code",
   "execution_count": 8,
   "metadata": {},
   "outputs": [
    {
     "name": "stdout",
     "output_type": "stream",
     "text": [
      "accuracy_score:  0.7733333333333333\n",
      "Confusion Matrix:\n",
      " [[ 0  0  1]\n",
      " [ 0  7 12]\n",
      " [ 0  4 51]]\n"
     ]
    }
   ],
   "source": [
    "from sklearn.linear_model import LogisticRegression\n",
    "from sklearn.metrics import accuracy_score\n",
    "from sklearn.metrics import confusion_matrix\n",
    "\n",
    "Spam_model = LogisticRegression(solver='liblinear', penalty='l1')\n",
    "Spam_model.fit(x_msgTrain, y_typeTrain)\n",
    "pred = Spam_model.predict(x_msgTest)\n",
    "print(\"accuracy_score: \", accuracy_score(y_typeTest,pred))\n",
    "print(\"Confusion Matrix:\\n\", confusion_matrix(y_typeTest, pred))"
   ]
  },
  {
   "cell_type": "code",
   "execution_count": 9,
   "metadata": {},
   "outputs": [
    {
     "name": "stdout",
     "output_type": "stream",
     "text": [
      "accuracy_score:  0.7333333333333333\n"
     ]
    }
   ],
   "source": [
    "# support vector machine\n",
    "clf = SVC(gamma='auto')\n",
    "clf.fit(x_msgTrain, y_typeTrain)\n",
    "y_pred = clf.predict(x_msgTest)\n",
    "print(\"accuracy_score: \", accuracy_score(y_typeTest, y_pred))"
   ]
  },
  {
   "cell_type": "code",
   "execution_count": 14,
   "metadata": {},
   "outputs": [
    {
     "name": "stdout",
     "output_type": "stream",
     "text": [
      "accuracy_score:  0.7979999999999996\n"
     ]
    }
   ],
   "source": [
    "# Stochastic Gradient Descent\n",
    "# https://scikit-learn.org/stable/modules/sgd.html\n",
    "accuracyScores = []\n",
    "for epoch in range(100):\n",
    "    clf = SGDClassifier(loss=\"hinge\", penalty=\"l2\", max_iter=5)\n",
    "    clf.fit(x_msgTrain, y_typeTrain)\n",
    "    y_pred = clf.predict(x_msgTest)\n",
    "    accuracyScores.append(accuracy_score(y_typeTest, y_pred))\n",
    "print(\"accuracy_score: \", sum(accuracyScores) / len(accuracyScores))"
   ]
  },
  {
   "cell_type": "code",
   "execution_count": 11,
   "metadata": {},
   "outputs": [
    {
     "name": "stdout",
     "output_type": "stream",
     "text": [
      "accuracy_score:  0.72\n"
     ]
    }
   ],
   "source": [
    "# Gaussian Naive Bayes\n",
    "clf = GaussianNB()\n",
    "clf.fit(x_msgTrain.toarray(), y_typeTrain)\n",
    "y_pred = clf.predict(x_msgTest.toarray())\n",
    "print(\"accuracy_score: \", accuracy_score(y_typeTest, y_pred))"
   ]
  }
 ],
 "metadata": {
  "kernelspec": {
   "display_name": "Python 3",
   "language": "python",
   "name": "python3"
  },
  "language_info": {
   "codemirror_mode": {
    "name": "ipython",
    "version": 3
   },
   "file_extension": ".py",
   "mimetype": "text/x-python",
   "name": "python",
   "nbconvert_exporter": "python",
   "pygments_lexer": "ipython3",
   "version": "3.7.4"
  }
 },
 "nbformat": 4,
 "nbformat_minor": 2
}
