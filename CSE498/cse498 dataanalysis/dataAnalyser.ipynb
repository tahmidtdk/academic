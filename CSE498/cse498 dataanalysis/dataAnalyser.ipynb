{
 "cells": [
  {
   "cell_type": "markdown",
   "metadata": {},
   "source": [
    "# The Reliability and Acceptance of Biometric System in Bangladesh: Users Perspective\n",
    "Survey data analysis using puthon3\n",
    "\n",
    "#### Researchers:\n",
    "    Shaykh Siddique (shaykhsiddiqee@gmail.com)\n",
    "    Mushfiqul Alam (alammushfiqul366@gmail.com)\n",
    "    Monica Yasmin (y.monicamym@gmail.com)\n",
    "    Tasnova Bintee Taher (tasnovafabi@gmail.com)\n",
    "    \n",
    "**Data Analyst By:**  *Shaykh Siddique*\n"
   ]
  },
  {
   "cell_type": "code",
   "execution_count": 1,
   "metadata": {},
   "outputs": [],
   "source": [
    "# Survey data analysis using puthon3\n",
    "import pandas as pd\n",
    "import numpy as np\n",
    "import seaborn as sns\n",
    "import matplotlib.pyplot as plt\n",
    "%matplotlib inline"
   ]
  },
  {
   "cell_type": "code",
   "execution_count": 2,
   "metadata": {},
   "outputs": [
    {
     "data": {
      "text/html": [
       "<div>\n",
       "<style scoped>\n",
       "    .dataframe tbody tr th:only-of-type {\n",
       "        vertical-align: middle;\n",
       "    }\n",
       "\n",
       "    .dataframe tbody tr th {\n",
       "        vertical-align: top;\n",
       "    }\n",
       "\n",
       "    .dataframe thead th {\n",
       "        text-align: right;\n",
       "    }\n",
       "</style>\n",
       "<table border=\"1\" class=\"dataframe\">\n",
       "  <thead>\n",
       "    <tr style=\"text-align: right;\">\n",
       "      <th></th>\n",
       "      <th>Timestamp</th>\n",
       "      <th>Q0</th>\n",
       "      <th>Q1</th>\n",
       "      <th>Q2</th>\n",
       "      <th>Q3</th>\n",
       "      <th>Q4</th>\n",
       "      <th>Q5-FS</th>\n",
       "      <th>Q5-HS</th>\n",
       "      <th>Q5-IS</th>\n",
       "      <th>Q5-DNA</th>\n",
       "      <th>...</th>\n",
       "      <th>Q11-VD</th>\n",
       "      <th>Q12</th>\n",
       "      <th>Q13-UF</th>\n",
       "      <th>Q13-SS</th>\n",
       "      <th>Q13-P</th>\n",
       "      <th>Q13-E</th>\n",
       "      <th>Q14</th>\n",
       "      <th>Q15</th>\n",
       "      <th>Q16</th>\n",
       "      <th>Q17</th>\n",
       "    </tr>\n",
       "  </thead>\n",
       "  <tbody>\n",
       "    <tr>\n",
       "      <td>0</td>\n",
       "      <td>2019/11/03 10:57:23 PM GMT+6</td>\n",
       "      <td>Yes</td>\n",
       "      <td>3.0</td>\n",
       "      <td>Agree</td>\n",
       "      <td>Agree</td>\n",
       "      <td>Strongly Disagree</td>\n",
       "      <td>Medium</td>\n",
       "      <td>Low</td>\n",
       "      <td>Very High</td>\n",
       "      <td>Very High</td>\n",
       "      <td>...</td>\n",
       "      <td>High</td>\n",
       "      <td>Strongly Agree</td>\n",
       "      <td>Often</td>\n",
       "      <td>Always</td>\n",
       "      <td>Always</td>\n",
       "      <td>Sometimes</td>\n",
       "      <td>4.0</td>\n",
       "      <td>Neutral</td>\n",
       "      <td>1.0</td>\n",
       "      <td>Agree</td>\n",
       "    </tr>\n",
       "    <tr>\n",
       "      <td>1</td>\n",
       "      <td>2019/11/03 10:57:47 PM GMT+6</td>\n",
       "      <td>Yes</td>\n",
       "      <td>5.0</td>\n",
       "      <td>Agree</td>\n",
       "      <td>Agree</td>\n",
       "      <td>Disagree</td>\n",
       "      <td>High</td>\n",
       "      <td>Low</td>\n",
       "      <td>High</td>\n",
       "      <td>High</td>\n",
       "      <td>...</td>\n",
       "      <td>Medium</td>\n",
       "      <td>Agree</td>\n",
       "      <td>Sometimes</td>\n",
       "      <td>Sometimes</td>\n",
       "      <td>Rarely</td>\n",
       "      <td>Sometimes</td>\n",
       "      <td>1.0</td>\n",
       "      <td>Neutral</td>\n",
       "      <td>5.0</td>\n",
       "      <td>Agree</td>\n",
       "    </tr>\n",
       "    <tr>\n",
       "      <td>2</td>\n",
       "      <td>2019/11/03 10:59:13 PM GMT+6</td>\n",
       "      <td>Yes</td>\n",
       "      <td>5.0</td>\n",
       "      <td>Agree</td>\n",
       "      <td>Agree</td>\n",
       "      <td>Agree</td>\n",
       "      <td>Low</td>\n",
       "      <td>Low</td>\n",
       "      <td>High</td>\n",
       "      <td>Very High</td>\n",
       "      <td>...</td>\n",
       "      <td>Medium</td>\n",
       "      <td>Agree</td>\n",
       "      <td>NaN</td>\n",
       "      <td>Always</td>\n",
       "      <td>Often</td>\n",
       "      <td>Sometimes</td>\n",
       "      <td>4.0</td>\n",
       "      <td>Disagree</td>\n",
       "      <td>3.0</td>\n",
       "      <td>Strongly Agree</td>\n",
       "    </tr>\n",
       "    <tr>\n",
       "      <td>3</td>\n",
       "      <td>2019/11/03 11:01:20 PM GMT+6</td>\n",
       "      <td>Yes</td>\n",
       "      <td>4.0</td>\n",
       "      <td>Strongly Agree</td>\n",
       "      <td>Disagree</td>\n",
       "      <td>Strongly Disagree</td>\n",
       "      <td>High</td>\n",
       "      <td>Medium</td>\n",
       "      <td>High</td>\n",
       "      <td>Very High</td>\n",
       "      <td>...</td>\n",
       "      <td>Low</td>\n",
       "      <td>Strongly Agree</td>\n",
       "      <td>Often</td>\n",
       "      <td>Always</td>\n",
       "      <td>Often</td>\n",
       "      <td>Often</td>\n",
       "      <td>2.0</td>\n",
       "      <td>Strongly Disagree</td>\n",
       "      <td>2.0</td>\n",
       "      <td>Strongly Agree</td>\n",
       "    </tr>\n",
       "    <tr>\n",
       "      <td>4</td>\n",
       "      <td>2019/11/03 11:02:18 PM GMT+6</td>\n",
       "      <td>Yes</td>\n",
       "      <td>4.0</td>\n",
       "      <td>Agree</td>\n",
       "      <td>Strongly Agree</td>\n",
       "      <td>Disagree</td>\n",
       "      <td>Low</td>\n",
       "      <td>Low</td>\n",
       "      <td>High</td>\n",
       "      <td>Very High</td>\n",
       "      <td>...</td>\n",
       "      <td>High</td>\n",
       "      <td>Agree</td>\n",
       "      <td>Always</td>\n",
       "      <td>Always</td>\n",
       "      <td>Often</td>\n",
       "      <td>Often</td>\n",
       "      <td>2.0</td>\n",
       "      <td>Agree</td>\n",
       "      <td>1.0</td>\n",
       "      <td>Agree</td>\n",
       "    </tr>\n",
       "  </tbody>\n",
       "</table>\n",
       "<p>5 rows × 43 columns</p>\n",
       "</div>"
      ],
      "text/plain": [
       "                      Timestamp   Q0   Q1              Q2              Q3  \\\n",
       "0  2019/11/03 10:57:23 PM GMT+6  Yes  3.0           Agree           Agree   \n",
       "1  2019/11/03 10:57:47 PM GMT+6  Yes  5.0           Agree           Agree   \n",
       "2  2019/11/03 10:59:13 PM GMT+6  Yes  5.0           Agree           Agree   \n",
       "3  2019/11/03 11:01:20 PM GMT+6  Yes  4.0  Strongly Agree        Disagree   \n",
       "4  2019/11/03 11:02:18 PM GMT+6  Yes  4.0           Agree  Strongly Agree   \n",
       "\n",
       "                  Q4   Q5-FS   Q5-HS      Q5-IS     Q5-DNA  ...  Q11-VD  \\\n",
       "0  Strongly Disagree  Medium     Low  Very High  Very High  ...    High   \n",
       "1           Disagree    High     Low       High       High  ...  Medium   \n",
       "2              Agree     Low     Low       High  Very High  ...  Medium   \n",
       "3  Strongly Disagree    High  Medium       High  Very High  ...     Low   \n",
       "4           Disagree     Low     Low       High  Very High  ...    High   \n",
       "\n",
       "              Q12     Q13-UF     Q13-SS   Q13-P      Q13-E  Q14  \\\n",
       "0  Strongly Agree      Often     Always  Always  Sometimes  4.0   \n",
       "1           Agree  Sometimes  Sometimes  Rarely  Sometimes  1.0   \n",
       "2           Agree        NaN     Always   Often  Sometimes  4.0   \n",
       "3  Strongly Agree      Often     Always   Often      Often  2.0   \n",
       "4           Agree     Always     Always   Often      Often  2.0   \n",
       "\n",
       "                 Q15  Q16             Q17  \n",
       "0            Neutral  1.0           Agree  \n",
       "1            Neutral  5.0           Agree  \n",
       "2           Disagree  3.0  Strongly Agree  \n",
       "3  Strongly Disagree  2.0  Strongly Agree  \n",
       "4              Agree  1.0           Agree  \n",
       "\n",
       "[5 rows x 43 columns]"
      ]
     },
     "execution_count": 2,
     "metadata": {},
     "output_type": "execute_result"
    }
   ],
   "source": [
    "dataFile = pd.read_csv(\"datafinal.csv\")\n",
    "dataFile.head()"
   ]
  },
  {
   "cell_type": "markdown",
   "metadata": {},
   "source": [
    "## Data Cleaning & Preaparaton\n",
    "Question. Do you want to continue participating in this research study?\n",
    "\n",
    "> Anasysis of response rate those wanted to continue research study. \n",
    "\n",
    "Drop all the no answering rows and missing variables are filled up with `NaN` (python Nan datatype - dataframe object).\n"
   ]
  },
  {
   "cell_type": "code",
   "execution_count": 3,
   "metadata": {},
   "outputs": [
    {
     "name": "stdout",
     "output_type": "stream",
     "text": [
      "Total Data length: 174\n",
      "Response Rate: 98.85057471264368%\n"
     ]
    }
   ],
   "source": [
    "\n",
    "totalResp = len(dataFile)\n",
    "noResp = len(dataFile[dataFile[\"Q0\"] == \"No\"])\n",
    "yesResp = len(dataFile[dataFile[\"Q0\"] == \"Yes\"])\n",
    "print(\"Total Data length: \"+str(totalResp))\n",
    "print(\"Response Rate: \"+str(yesResp*100/totalResp)+\"%\")\n",
    "\n",
    "dataFile_cleand = dataFile.drop(dataFile[dataFile[\"Q0\"] == \"No\"].index, axis=0)\n",
    "\n"
   ]
  },
  {
   "cell_type": "markdown",
   "metadata": {},
   "source": [
    "### Data Encoding\n",
    "Ordinal Data are encoded in following encoded variables: \n",
    "\n",
    "| Variables  | Variables | Variables | Encoded Data   |\n",
    "|------|------|------|------|\n",
    "|   Strongly Disagree  |   Very Low | Never  | 1 |\n",
    "|   Disagree  | Low  | Rarely  | 2 |\n",
    "|   Neutral  | Medium  | Sometimes  | 3 |\n",
    "|   Agree  | High  | Often  | 4 |\n",
    "|   Strongly Agree  |  Very High  | Always  | 5 |"
   ]
  },
  {
   "cell_type": "code",
   "execution_count": 4,
   "metadata": {},
   "outputs": [
    {
     "data": {
      "text/html": [
       "<div>\n",
       "<style scoped>\n",
       "    .dataframe tbody tr th:only-of-type {\n",
       "        vertical-align: middle;\n",
       "    }\n",
       "\n",
       "    .dataframe tbody tr th {\n",
       "        vertical-align: top;\n",
       "    }\n",
       "\n",
       "    .dataframe thead th {\n",
       "        text-align: right;\n",
       "    }\n",
       "</style>\n",
       "<table border=\"1\" class=\"dataframe\">\n",
       "  <thead>\n",
       "    <tr style=\"text-align: right;\">\n",
       "      <th></th>\n",
       "      <th>Timestamp</th>\n",
       "      <th>Q0</th>\n",
       "      <th>Q1</th>\n",
       "      <th>Q2</th>\n",
       "      <th>Q3</th>\n",
       "      <th>Q4</th>\n",
       "      <th>Q5-FS</th>\n",
       "      <th>Q5-HS</th>\n",
       "      <th>Q5-IS</th>\n",
       "      <th>Q5-DNA</th>\n",
       "      <th>...</th>\n",
       "      <th>Q11-VD</th>\n",
       "      <th>Q12</th>\n",
       "      <th>Q13-UF</th>\n",
       "      <th>Q13-SS</th>\n",
       "      <th>Q13-P</th>\n",
       "      <th>Q13-E</th>\n",
       "      <th>Q14</th>\n",
       "      <th>Q15</th>\n",
       "      <th>Q16</th>\n",
       "      <th>Q17</th>\n",
       "    </tr>\n",
       "  </thead>\n",
       "  <tbody>\n",
       "    <tr>\n",
       "      <td>0</td>\n",
       "      <td>2019/11/03 10:57:23 PM GMT+6</td>\n",
       "      <td>Yes</td>\n",
       "      <td>3.0</td>\n",
       "      <td>4.0</td>\n",
       "      <td>4.0</td>\n",
       "      <td>1.0</td>\n",
       "      <td>3.0</td>\n",
       "      <td>2.0</td>\n",
       "      <td>5.0</td>\n",
       "      <td>5.0</td>\n",
       "      <td>...</td>\n",
       "      <td>4.0</td>\n",
       "      <td>5.0</td>\n",
       "      <td>4.0</td>\n",
       "      <td>5.0</td>\n",
       "      <td>5.0</td>\n",
       "      <td>3.0</td>\n",
       "      <td>4.0</td>\n",
       "      <td>3.0</td>\n",
       "      <td>1.0</td>\n",
       "      <td>4.0</td>\n",
       "    </tr>\n",
       "    <tr>\n",
       "      <td>1</td>\n",
       "      <td>2019/11/03 10:57:47 PM GMT+6</td>\n",
       "      <td>Yes</td>\n",
       "      <td>5.0</td>\n",
       "      <td>4.0</td>\n",
       "      <td>4.0</td>\n",
       "      <td>2.0</td>\n",
       "      <td>4.0</td>\n",
       "      <td>2.0</td>\n",
       "      <td>4.0</td>\n",
       "      <td>4.0</td>\n",
       "      <td>...</td>\n",
       "      <td>3.0</td>\n",
       "      <td>4.0</td>\n",
       "      <td>3.0</td>\n",
       "      <td>3.0</td>\n",
       "      <td>2.0</td>\n",
       "      <td>3.0</td>\n",
       "      <td>1.0</td>\n",
       "      <td>3.0</td>\n",
       "      <td>5.0</td>\n",
       "      <td>4.0</td>\n",
       "    </tr>\n",
       "    <tr>\n",
       "      <td>2</td>\n",
       "      <td>2019/11/03 10:59:13 PM GMT+6</td>\n",
       "      <td>Yes</td>\n",
       "      <td>5.0</td>\n",
       "      <td>4.0</td>\n",
       "      <td>4.0</td>\n",
       "      <td>4.0</td>\n",
       "      <td>2.0</td>\n",
       "      <td>2.0</td>\n",
       "      <td>4.0</td>\n",
       "      <td>5.0</td>\n",
       "      <td>...</td>\n",
       "      <td>3.0</td>\n",
       "      <td>4.0</td>\n",
       "      <td>NaN</td>\n",
       "      <td>5.0</td>\n",
       "      <td>4.0</td>\n",
       "      <td>3.0</td>\n",
       "      <td>4.0</td>\n",
       "      <td>2.0</td>\n",
       "      <td>3.0</td>\n",
       "      <td>5.0</td>\n",
       "    </tr>\n",
       "    <tr>\n",
       "      <td>3</td>\n",
       "      <td>2019/11/03 11:01:20 PM GMT+6</td>\n",
       "      <td>Yes</td>\n",
       "      <td>4.0</td>\n",
       "      <td>5.0</td>\n",
       "      <td>2.0</td>\n",
       "      <td>1.0</td>\n",
       "      <td>4.0</td>\n",
       "      <td>3.0</td>\n",
       "      <td>4.0</td>\n",
       "      <td>5.0</td>\n",
       "      <td>...</td>\n",
       "      <td>2.0</td>\n",
       "      <td>5.0</td>\n",
       "      <td>4.0</td>\n",
       "      <td>5.0</td>\n",
       "      <td>4.0</td>\n",
       "      <td>4.0</td>\n",
       "      <td>2.0</td>\n",
       "      <td>1.0</td>\n",
       "      <td>2.0</td>\n",
       "      <td>5.0</td>\n",
       "    </tr>\n",
       "    <tr>\n",
       "      <td>4</td>\n",
       "      <td>2019/11/03 11:02:18 PM GMT+6</td>\n",
       "      <td>Yes</td>\n",
       "      <td>4.0</td>\n",
       "      <td>4.0</td>\n",
       "      <td>5.0</td>\n",
       "      <td>2.0</td>\n",
       "      <td>2.0</td>\n",
       "      <td>2.0</td>\n",
       "      <td>4.0</td>\n",
       "      <td>5.0</td>\n",
       "      <td>...</td>\n",
       "      <td>4.0</td>\n",
       "      <td>4.0</td>\n",
       "      <td>5.0</td>\n",
       "      <td>5.0</td>\n",
       "      <td>4.0</td>\n",
       "      <td>4.0</td>\n",
       "      <td>2.0</td>\n",
       "      <td>4.0</td>\n",
       "      <td>1.0</td>\n",
       "      <td>4.0</td>\n",
       "    </tr>\n",
       "  </tbody>\n",
       "</table>\n",
       "<p>5 rows × 43 columns</p>\n",
       "</div>"
      ],
      "text/plain": [
       "                      Timestamp   Q0   Q1   Q2   Q3   Q4  Q5-FS  Q5-HS  Q5-IS  \\\n",
       "0  2019/11/03 10:57:23 PM GMT+6  Yes  3.0  4.0  4.0  1.0    3.0    2.0    5.0   \n",
       "1  2019/11/03 10:57:47 PM GMT+6  Yes  5.0  4.0  4.0  2.0    4.0    2.0    4.0   \n",
       "2  2019/11/03 10:59:13 PM GMT+6  Yes  5.0  4.0  4.0  4.0    2.0    2.0    4.0   \n",
       "3  2019/11/03 11:01:20 PM GMT+6  Yes  4.0  5.0  2.0  1.0    4.0    3.0    4.0   \n",
       "4  2019/11/03 11:02:18 PM GMT+6  Yes  4.0  4.0  5.0  2.0    2.0    2.0    4.0   \n",
       "\n",
       "   Q5-DNA  ...  Q11-VD  Q12 Q13-UF  Q13-SS  Q13-P  Q13-E  Q14  Q15  Q16  Q17  \n",
       "0     5.0  ...     4.0  5.0    4.0     5.0    5.0    3.0  4.0  3.0  1.0  4.0  \n",
       "1     4.0  ...     3.0  4.0    3.0     3.0    2.0    3.0  1.0  3.0  5.0  4.0  \n",
       "2     5.0  ...     3.0  4.0    NaN     5.0    4.0    3.0  4.0  2.0  3.0  5.0  \n",
       "3     5.0  ...     2.0  5.0    4.0     5.0    4.0    4.0  2.0  1.0  2.0  5.0  \n",
       "4     5.0  ...     4.0  4.0    5.0     5.0    4.0    4.0  2.0  4.0  1.0  4.0  \n",
       "\n",
       "[5 rows x 43 columns]"
      ]
     },
     "execution_count": 4,
     "metadata": {},
     "output_type": "execute_result"
    }
   ],
   "source": [
    "# for Q1. How frequently do you use the biometric authentication system?\n",
    "# 1 =never and 5 = always skip all the never answers\n",
    "dataFile_cleand = dataFile.drop(dataFile[dataFile[\"Q1\"] == 1].index, axis=0)\n",
    "\n",
    "# for Q2. Do you think it is possible to steal your biometric data from these kinds of services(Personal Devices or Online Banks/NID/Mobile Phone Companies)?\n",
    "# aggree and disaggree, if any person skip this answer it will be consider as neutral\n",
    "\n",
    "dataFile_cleand = dataFile_cleand.replace(\"Strongly Disagree\", 1)\n",
    "dataFile_cleand = dataFile_cleand.replace(\"Disagree\", 2)\n",
    "dataFile_cleand = dataFile_cleand.replace(\"Neutral\", 3)\n",
    "dataFile_cleand = dataFile_cleand.replace(\"Agree\", 4)\n",
    "dataFile_cleand = dataFile_cleand.replace(\"Strongly Agree\", 5)\n",
    "# for Q5. For this case, rate the biometric systems which are more reliable\n",
    "# Q5-FS\tQ5-HS\tQ5-IS\tQ5-DNA\tQ5-SV\tQ5-VD\n",
    "dataFile_cleand = dataFile_cleand.replace(\"Very Low\",1)\n",
    "dataFile_cleand = dataFile_cleand.replace(\"Low\",2)\n",
    "dataFile_cleand = dataFile_cleand.replace(\"Medium\",3)\n",
    "dataFile_cleand = dataFile_cleand.replace(\"High\",4)\n",
    "dataFile_cleand = dataFile_cleand.replace(\"Very High\",5)\n",
    "\n",
    "# for Q13. Do you ever use any third-party applications that need/store biometric information?\n",
    "# never often always\n",
    "dataFile_cleand = dataFile_cleand.replace(\"Never\",1)\n",
    "dataFile_cleand = dataFile_cleand.replace(\"Rarely\",2)\n",
    "dataFile_cleand = dataFile_cleand.replace(\"Sometimes\",3)\n",
    "dataFile_cleand = dataFile_cleand.replace(\"Often\",4)\n",
    "dataFile_cleand = dataFile_cleand.replace(\"Always\",5)\n",
    "\n",
    "dataFile_cleand.head()"
   ]
  },
  {
   "cell_type": "markdown",
   "metadata": {},
   "source": [
    "## This part of analysis will fullfill objective 1\n",
    "> **Objective:** To analyze user reviews about the quality and reliability of biometric systems.\n",
    "\n",
    "Three main question analysis\n",
    "\n",
    "- **Q17.** Do you think instead of using a password/pin based security system, the biometric system can give more security to users?\n",
    "- **Q5.** The biometric system works on body measurement. If anything goes wrong with your skin, voice or physical any injury biometric system cannot verify you. In that case rate the system reliability\n",
    "- **Q10.** What are the most common issues you faced?"
   ]
  },
  {
   "cell_type": "markdown",
   "metadata": {},
   "source": [
    "#### 1.1 Satisfiction Comparison between Password/Pin and Biometric  Authentication\n",
    "Positive replies of this question are considerated as vote for Biometric  Authentication and negetives are for Password or Pin based authentication system.\n",
    "In Total Participants of `174`(will update for final dataset), 98 users voted for biometric system and  16 users chooses choosed password/pin based system.\n",
    "Parcentage for biometric system $= \\frac{98*100}{174} $"
   ]
  },
  {
   "cell_type": "code",
   "execution_count": 5,
   "metadata": {},
   "outputs": [
    {
     "name": "stdout",
     "output_type": "stream",
     "text": [
      "percentage of password/pin, neutal and Biometric system: [10.32258064516129, 26.451612903225808, 63.225806451612904]\n"
     ]
    },
    {
     "data": {
      "text/plain": [
       "Text(0.5, 1.0, 'Satisfiction rate on password/pin vs biometric system')"
      ]
     },
     "execution_count": 5,
     "metadata": {},
     "output_type": "execute_result"
    },
    {
     "data": {
      "image/png": "[encoded data removed]",
      "text/plain": [
       "<Figure size 432x288 with 1 Axes>"
      ]
     },
     "metadata": {
      "needs_background": "light"
     },
     "output_type": "display_data"
    }
   ],
   "source": [
    "# analysis of Q17\n",
    "# biometric - 4+5, pass- 1+2, neutral-3\n",
    "graphQ17= []\n",
    "# making parcentage of votes\n",
    "graphQ17.append((len(dataFile_cleand[dataFile_cleand[\"Q17\"] < 3]) * 100)/dataFile_cleand[\"Q17\"].count())\n",
    "graphQ17.append((len(dataFile_cleand[dataFile_cleand[\"Q17\"] == 3]) * 100)/dataFile_cleand[\"Q17\"].count())\n",
    "graphQ17.append((len(dataFile_cleand[dataFile_cleand[\"Q17\"] > 3]) * 100)/dataFile_cleand[\"Q17\"].count())\n",
    "graphQ17.sort()\n",
    "print(\"percentage of password/pin, neutal and Biometric system:\", graphQ17)\n",
    "\n",
    "# plotting codes goes here\n",
    "xticks=[1, 2, 3]\n",
    "grpQ17 =sns.barplot(y = graphQ17, x=xticks, color=\"skyblue\")\n",
    "\n",
    "grpQ17.set_xticklabels([\"Password/Pin\", \"Neutral\", \"Biometric System\"])\n",
    "grpQ17.set_title(\"Satisfiction rate on password/pin vs biometric system\")"
   ]
  },
  {
   "cell_type": "markdown",
   "metadata": {},
   "source": [
    "#### 1.2 Reliability Ratings for Different Biometric Systems\n",
    "Calculate the sum of values(1-5) for each answer. As encoded method `very Low = 1` and `very high = 5`, if summation of score increase, the overall score will be also increase. Then the percentage will be the final score for each biometric systems. So\n",
    "\n",
    "$$score_{(i)} = \\frac{\\sum point_{j} *100}{Total Score} $$\n",
    "\n",
    "Where, \n",
    "\n",
    "$i$ for each biometric system\n",
    "\n",
    "$j$ is for each record and \n",
    "\n",
    "$ Total Score = Total Participantes * 5 $\n",
    "\n",
    "> The most reliable biometric system is DNA identification according to the participants review 68.67 %. Then iris and fingerprint verification. Signature validation and voice detection are not so much reliable to users(score % is below 50).\n"
   ]
  },
  {
   "cell_type": "code",
   "execution_count": 6,
   "metadata": {},
   "outputs": [
    {
     "name": "stdout",
     "output_type": "stream",
     "text": [
      "Values:  [58.23899371069182, 48.80503144654088, 62.893081761006286, 68.67924528301887, 44.0251572327044, 44.528301886792455]\n"
     ]
    },
    {
     "data": {
      "text/plain": [
       "Text(0.5, 1.0, 'Reliability rate of different biometric systems')"
      ]
     },
     "execution_count": 6,
     "metadata": {},
     "output_type": "execute_result"
    },
    {
     "data": {
      "image/png": "[encoded data removed]",
      "text/plain": [
       "<Figure size 432x288 with 1 Axes>"
      ]
     },
     "metadata": {
      "needs_background": "light"
     },
     "output_type": "display_data"
    }
   ],
   "source": [
    "# analysis of Q5\n",
    "\n",
    "qtn_tit = [\"Q5-FS\", \"Q5-HS\", \"Q5-IS\", \"Q5-DNA\", \"Q5-SV\", \"Q5-VD\"]\n",
    "\n",
    "# for val in qtn_tit\n",
    "\n",
    "totalScore = len(dataFile_cleand) * 5\n",
    "totalrespQ5 = []\n",
    "for j, val in enumerate(qtn_tit):\n",
    "    totalrespQ5.append((dataFile_cleand[val].sum()*100)/totalScore)\n",
    "\n",
    "print(\"Values: \", totalrespQ5)\n",
    "xticks = [0, 1, 2, 3, 4, 5]\n",
    "graphQ5sc = sns.barplot(x = xticks, y = totalrespQ5)\n",
    "\n",
    "graphQ5sc.set_xticks(xticks)\n",
    "graphQ5sc.set_xticklabels([\"Fingerprint Scan\", \"Handplam Scan\", \"Iris Scan\", \"DNA Test\", \"Signature Validation \", \"Voice Detection\"], rotation = 90)\n",
    "graphQ5sc.set(xlabel='Biometric Systems', ylabel='Reliability Score %')\n",
    "graphQ5sc.set_title(\"Reliability rate of different biometric systems\")"
   ]
  },
  {
   "cell_type": "markdown",
   "metadata": {},
   "source": [
    "####  1.3 Major Issues of Biometric System\n",
    "This heatmap is build by crosschecking of major issues biomatric system and how frequently they face that kind of issues.\n",
    "From the figure we can easily find out-\n",
    "- How many of people faced \n",
    "- Which kind of issus\n",
    "- How frequent they faced.\n"
   ]
  },
  {
   "cell_type": "code",
   "execution_count": 7,
   "metadata": {
    "scrolled": true
   },
   "outputs": [
    {
     "name": "stdout",
     "output_type": "stream",
     "text": [
      "values: [[16, 36, 66, 20, 6], [9, 45, 51, 28, 7], [13, 34, 55, 30, 12], [14, 29, 64, 27, 10], [25, 29, 41, 13, 4]]\n"
     ]
    },
    {
     "data": {
      "text/plain": [
       "Text(0.5, 1, 'Major issues of Biometric Systems')"
      ]
     },
     "execution_count": 7,
     "metadata": {},
     "output_type": "execute_result"
    },
    {
     "data": {
      "image/png": "[encoded data removed]",
      "text/plain": [
       "<Figure size 432x288 with 2 Axes>"
      ]
     },
     "metadata": {
      "needs_background": "light"
     },
     "output_type": "display_data"
    }
   ],
   "source": [
    "# analysis of Q10\n",
    "# Q10-HF\tQ10-VS\tQ10-VDS\tQ10-AF\tQ10-O\n",
    "Q10ttl = [\"Q10-HF\", \"Q10-VS\", \"Q10-VDS\", \"Q10-AF\", \"Q10-O\"]\n",
    "issuesCrosscheck = [[]]\n",
    "for j, val in enumerate(Q10ttl):\n",
    "    if j:\n",
    "        issuesCrosscheck.append([])\n",
    "    for i in range(0,5):\n",
    "        issuesCrosscheck[j].append(len(dataFile_cleand[dataFile_cleand[val] == i+1]))\n",
    "    \n",
    "print(\"values:\", issuesCrosscheck)\n",
    "graphQ10 = sns.heatmap(issuesCrosscheck, vmin=0, vmax=60, cmap=\"YlGnBu\")  \n",
    "xticks = [0.5, 1.5, 2.5, 3.5, 4.5]\n",
    "yticks = [0, 0.5, 1.5, 2.5, 3.5, 4.5, 5]\n",
    "graphQ10.set_xticks(xticks)\n",
    "graphQ10.set_yticks(yticks)\n",
    "graphQ10.invert_yaxis()\n",
    "graphQ10.set_xticklabels([\"Never\", \"Rarely\", \"Sometimes\", \"Often\", \"Always\"])\n",
    "graphQ10.set_yticklabels([\"\",\"Hardware Failure\", \"Vulnerable Software\", \"Vulnerable Data Storage\", \"Authorization Failure for real person\", \"Others\"],  rotation = 0)\n",
    "graphQ10.set(ylabel='Issues', xlabel='Frequency')\n",
    "graphQ10.set_title(\"Major issues of Biometric Systems\")"
   ]
  },
  {
   "cell_type": "markdown",
   "metadata": {},
   "source": [
    "## This part of analysis will fullfill objective 2\n",
    ">  **Objective:** To assess user concerns about biometric data privacy.\n",
    "\n",
    "Some questions:\n",
    "- **Q7.** In Sic-fiction movies, we see the thief took the victim’s fingerprints or make the victim unconscious and collect biometric information. Do you think it’s possible in real life?\n",
    "- **Q6.** If any reason, you are failed to access the biometric security system what kind of secondary mechanism (recovery option) you prefer to use?\n",
    "- **Q14.** Do you ever use any third-party applications that need/store biometric information?\n",
    "- **Q15.** and Q16. Do you think all kinds of biometric systems have well-defined Terms and Conditions?"
   ]
  },
  {
   "cell_type": "markdown",
   "metadata": {},
   "source": [
    "#### 2.1 Awareness about fake authentication of Biometric System\n",
    "Given an imaginary scenario and asked, whether it is possible or not in real life ?\n",
    "Need good referance on Internet to prove really it's possible or not. \n",
    "Example link: https://www.computerworld.com.au/article/627662/scientists-give-biometric-security-systems-fake-finger/\n",
    "- Here said - Researchers have fabricated a wearable fake fingertip that is able to fool biometric security systems(Try to find their paper that will be the best process).\n",
    "- Find one more referance(Optional).\n",
    "- Then finally say as some study reflects that it is possible to fool a biometric system, so the positive awareness rate is 36.4% ."
   ]
  },
  {
   "cell_type": "code",
   "execution_count": 14,
   "metadata": {
    "scrolled": true
   },
   "outputs": [
    {
     "data": {
      "text/plain": [
       "Text(0.5, 1.0, 'Awareness about fake authentication of Biometric System')"
      ]
     },
     "execution_count": 14,
     "metadata": {},
     "output_type": "execute_result"
    },
    {
     "data": {
      "image/png": "[encoded data removed]",
      "text/plain": [
       "<Figure size 360x360 with 1 Axes>"
      ]
     },
     "metadata": {},
     "output_type": "display_data"
    }
   ],
   "source": [
    "# analysis of Q7 and Q 14 will decscribe together\n",
    "\n",
    "def func(pct, allvals):\n",
    "    absolute = int(pct/100.*np.sum(allvals))\n",
    "    return \"{:.1f}%\\n({:d})\".format(pct, absolute)\n",
    "# sum of tolat response\n",
    "arr_total=[]\n",
    "for i in range(1,6):\n",
    "    arr_total.append(len(dataFile_cleand[dataFile_cleand[\"Q7\"] == i]))\n",
    "    \n",
    "fig, ax = plt.subplots(figsize=(5, 5), subplot_kw=dict(aspect=\"equal\"))    \n",
    "\n",
    "wedges, texts, autotexts = ax.pie(arr_total, colors=[\"lightgrey\", \"silver\", \"black\", \"dimgrey\", \"grey\"],autopct=lambda pct: func(pct, arr_total), textprops=dict(color=\"W\"))\n",
    "ingredients = [\"Never\", \"Rarely\", \"Sometimes\", \"Often\", \"Always\"]\n",
    "ax.legend(wedges, ingredients, title=\"Frequency\", loc=\"center left\", bbox_to_anchor=(1, 0, 0.5, 1))\n",
    "ax.set_title(\"Awareness about fake authentication of Biometric System\")"
   ]
  },
  {
   "cell_type": "markdown",
   "metadata": {},
   "source": [
    "#### 2.2 Concern about secondary recovery mechanisms\n",
    "If anyone failed to access biometric system for physical injury, then what were the secondary mechanisms (recovery options) usually they used.\n",
    "Among total participants `174`, 46 people were using recovery email or message, 40 people were using password/pin. 2 participants had no secondary recovery mechanisms and 19 participants ignored this question(Both are taken as they are not familiar with secondary recovery mechanisms).\n"
   ]
  },
  {
   "cell_type": "code",
   "execution_count": 9,
   "metadata": {},
   "outputs": [
    {
     "name": "stdout",
     "output_type": "stream",
     "text": [
      "Total Response for this question:  155\n",
      "['Recovery Email or Message', 'Password or Pin', 'Multi-Biometric Authentication', 'None'] Consecutive Response: [46, 40, 25, 2]\n"
     ]
    },
    {
     "data": {
      "text/plain": [
       "Text(0.5, 1.0, 'Concern about secondary recovery mechanisms')"
      ]
     },
     "execution_count": 9,
     "metadata": {},
     "output_type": "execute_result"
    },
    {
     "data": {
      "image/png": "[encoded data removed]",
      "text/plain": [
       "<Figure size 432x288 with 1 Axes>"
      ]
     },
     "metadata": {
      "needs_background": "light"
     },
     "output_type": "display_data"
    }
   ],
   "source": [
    "# analysis of Q6\n",
    "\n",
    "factarr = [\"Recovery Email or Message\", \"Password or Pin\", \"Multi-Biometric Authentication\", \"None\"]\n",
    "totalQ6group =[]\n",
    "for val in factarr:\n",
    "    totalQ6group.append(len(dataFile_cleand[dataFile_cleand[\"Q6\"] == val]))\n",
    "print(\"Total Response for this question: \", dataFile_cleand[\"Q6\"].count())\n",
    "print(factarr,\"Consecutive Response:\" ,totalQ6group)\n",
    "graphQ6 = sns.barplot(y=totalQ6group, x=factarr)\n",
    "graphQ6.set_xticklabels(factarr, rotation=90)\n",
    "graphQ6.set(xlabel='Recovery Options', ylabel='Number of People')\n",
    "graphQ6.set_title(\"Concern about secondary recovery mechanisms\")"
   ]
  },
  {
   "cell_type": "markdown",
   "metadata": {},
   "source": [
    "#### 2.3 Third-Party Software users that collects biometric information\n",
    "Descriptions are shown in **Pie chart**."
   ]
  },
  {
   "cell_type": "code",
   "execution_count": 10,
   "metadata": {
    "scrolled": false
   },
   "outputs": [
    {
     "name": "stdout",
     "output_type": "stream",
     "text": [
      "values [59, 29, 35, 24, 7]\n"
     ]
    },
    {
     "data": {
      "text/plain": [
       "Text(0.5, 1.0, 'Third-Party Software users that collects biometric information')"
      ]
     },
     "execution_count": 10,
     "metadata": {},
     "output_type": "execute_result"
    },
    {
     "data": {
      "image/png": "[encoded data removed]",
      "text/plain": [
       "<Figure size 360x360 with 1 Axes>"
      ]
     },
     "metadata": {},
     "output_type": "display_data"
    }
   ],
   "source": [
    "# qstn 14 analysis\n",
    "arr_totalQ14=[]\n",
    "for i in range(1,6):\n",
    "    arr_totalQ14.append(len(dataFile_cleand[dataFile_cleand[\"Q14\"] == i]))\n",
    "    \n",
    "print(\"values\", arr_totalQ14)\n",
    "fig, ax = plt.subplots(figsize=(5, 5), subplot_kw=dict(aspect=\"equal\"))\n",
    "wedges, texts, autotexts = ax.pie(arr_totalQ14, colors=[\"black\", \"dimgrey\", \"grey\", \"silver\", \"lightgrey\"],autopct=lambda pct: func(pct, arr_total), textprops=dict(color=\"W\"))\n",
    "ingredients = [\"Never\", \"Rarely\", \"Sometimes\", \"Often\", \"Always\"]\n",
    "ax.legend(wedges, ingredients, title=\"Frequency\", loc=\"center left\", bbox_to_anchor=(1, 0, 0.5, 1))\n",
    "ax.set_title(\"Third-Party Software users that collects biometric information\")"
   ]
  },
  {
   "cell_type": "markdown",
   "metadata": {},
   "source": [
    "#### 2.4 Concerns about Documentation/ Biometric Device  \n",
    "For more details check google form data visualization part. From the percentile 25% of tolal participants donot read Documentation/Terms and Conditions before using a biometric device."
   ]
  },
  {
   "cell_type": "code",
   "execution_count": 11,
   "metadata": {
    "scrolled": true
   },
   "outputs": [
    {
     "data": {
      "text/html": [
       "<div>\n",
       "<style scoped>\n",
       "    .dataframe tbody tr th:only-of-type {\n",
       "        vertical-align: middle;\n",
       "    }\n",
       "\n",
       "    .dataframe tbody tr th {\n",
       "        vertical-align: top;\n",
       "    }\n",
       "\n",
       "    .dataframe thead th {\n",
       "        text-align: right;\n",
       "    }\n",
       "</style>\n",
       "<table border=\"1\" class=\"dataframe\">\n",
       "  <thead>\n",
       "    <tr style=\"text-align: right;\">\n",
       "      <th></th>\n",
       "      <th>Q15</th>\n",
       "      <th>Q16</th>\n",
       "    </tr>\n",
       "  </thead>\n",
       "  <tbody>\n",
       "    <tr>\n",
       "      <td>count</td>\n",
       "      <td>154.000000</td>\n",
       "      <td>156.000000</td>\n",
       "    </tr>\n",
       "    <tr>\n",
       "      <td>mean</td>\n",
       "      <td>2.941558</td>\n",
       "      <td>2.698718</td>\n",
       "    </tr>\n",
       "    <tr>\n",
       "      <td>std</td>\n",
       "      <td>0.834211</td>\n",
       "      <td>1.287257</td>\n",
       "    </tr>\n",
       "    <tr>\n",
       "      <td>min</td>\n",
       "      <td>1.000000</td>\n",
       "      <td>1.000000</td>\n",
       "    </tr>\n",
       "    <tr>\n",
       "      <td>25%</td>\n",
       "      <td>2.250000</td>\n",
       "      <td>2.000000</td>\n",
       "    </tr>\n",
       "    <tr>\n",
       "      <td>50%</td>\n",
       "      <td>3.000000</td>\n",
       "      <td>3.000000</td>\n",
       "    </tr>\n",
       "    <tr>\n",
       "      <td>75%</td>\n",
       "      <td>3.000000</td>\n",
       "      <td>4.000000</td>\n",
       "    </tr>\n",
       "    <tr>\n",
       "      <td>max</td>\n",
       "      <td>5.000000</td>\n",
       "      <td>5.000000</td>\n",
       "    </tr>\n",
       "  </tbody>\n",
       "</table>\n",
       "</div>"
      ],
      "text/plain": [
       "              Q15         Q16\n",
       "count  154.000000  156.000000\n",
       "mean     2.941558    2.698718\n",
       "std      0.834211    1.287257\n",
       "min      1.000000    1.000000\n",
       "25%      2.250000    2.000000\n",
       "50%      3.000000    3.000000\n",
       "75%      3.000000    4.000000\n",
       "max      5.000000    5.000000"
      ]
     },
     "execution_count": 11,
     "metadata": {},
     "output_type": "execute_result"
    }
   ],
   "source": [
    "dataFile_cleand[[\"Q15\", \"Q16\"]].describe()"
   ]
  },
  {
   "cell_type": "markdown",
   "metadata": {},
   "source": [
    "## This part of analysis will fullfill objective 3\n",
    "> **Objective:** To compare different biometric systems based on users' perspectives.\n",
    "\n",
    "**Related question:**\n",
    "- **Q3 & Q4.** Comparison of Personal Biometric Device Authentication vs Shared Data Storage(NID, Telecommunication Industry, Online Banking data center) privilege of update/modify/remove.\n",
    "- **Major Analysis(Q5, Q8, Q11, Price)** - Two dimensional comparison matrix of different biometric system.\n"
   ]
  },
  {
   "cell_type": "markdown",
   "metadata": {},
   "source": [
    "#### 3.1 Personal vs Shared Biometric Data Storage (Privileges of update/modify/remove)\n",
    "\n",
    "From the encoded mean & median, personal device have enough privileges to update/modify/remove biometric information. For shared data storage privilege mean & median are less than 3(neutral). So the users donot think they have enough privileges for govt. or other corporate biometric data storages."
   ]
  },
  {
   "cell_type": "code",
   "execution_count": 12,
   "metadata": {},
   "outputs": [
    {
     "name": "stdout",
     "output_type": "stream",
     "text": [
      "\t Persional device | Shared Data Storage privilege\n",
      "Mean:\t 3.35 \t\t  |\t\t2.56\n",
      "Median:\t 4.0 \t\t  |\t\t2.0\n",
      "Std :\t 0.99 \t\t  |\t\t0.94\n"
     ]
    }
   ],
   "source": [
    "\n",
    "p_prev_med, p_prev_mean, p_prev_std = dataFile_cleand[\"Q3\"].median(), dataFile_cleand[\"Q3\"].mean(), dataFile_cleand[\"Q3\"].std()\n",
    "s_prev_med, s_prev_mean, s_prev_std = dataFile_cleand[\"Q4\"].median(), dataFile_cleand[\"Q4\"].mean(), dataFile_cleand[\"Q4\"].std()\n",
    "\n",
    "print(\"\\t Persional device | Shared Data Storage privilege\")\n",
    "print(\"Mean:\\t \"+ str(p_prev_mean)[:4] + \" \\t\\t  |\\t\\t\"+str(s_prev_mean)[:4])\n",
    "print(\"Median:\\t \"+ str(p_prev_med) + \" \\t\\t  |\\t\\t\" + str(s_prev_med))\n",
    "print(\"Std :\\t \"+ str(p_prev_std)[:4] + \" \\t\\t  |\\t\\t\" + str(s_prev_std)[:4])"
   ]
  },
  {
   "cell_type": "markdown",
   "metadata": {},
   "source": [
    "#### Two Dimensional Comparison Matrix"
   ]
  },
  {
   "cell_type": "code",
   "execution_count": 13,
   "metadata": {},
   "outputs": [
    {
     "name": "stdout",
     "output_type": "stream",
     "text": [
      "Values:  [49.18238993710692, 61.63522012578616, 46.289308176100626, 60.62893081761006, 59.874213836477985, 43.144654088050316, 43.270440251572325]\n"
     ]
    },
    {
     "data": {
      "text/plain": [
       "Text(0.5, 1.0, 'Different biometric system with user preference')"
      ]
     },
     "execution_count": 13,
     "metadata": {},
     "output_type": "execute_result"
    },
    {
     "data": {
      "image/png": "[encoded data removed]",
      "text/plain": [
       "<Figure size 432x288 with 1 Axes>"
      ]
     },
     "metadata": {
      "needs_background": "light"
     },
     "output_type": "display_data"
    }
   ],
   "source": [
    "# analysis of Q8\n",
    "\n",
    "qtn_tit = [\"Q8-FD\", \"Q8-FS\", \"Q8-HS\", \"Q8-IS\", \"Q8-DNA\", \"Q8-SV\", \"Q8-VD\"]\n",
    "\n",
    "# for val in qtn_tit\n",
    "\n",
    "totalScore = len(dataFile_cleand) * 5\n",
    "totalrespQ8 = []\n",
    "for j, val in enumerate(qtn_tit):\n",
    "    totalrespQ8.append((dataFile_cleand[val].sum()*100)/totalScore)\n",
    "\n",
    "print(\"Values: \", totalrespQ8)\n",
    "xticks = [0, 1, 2, 3, 4, 5, 6]\n",
    "graphQ8sc = sns.barplot(x = xticks, y = totalrespQ8)\n",
    "\n",
    "graphQ8sc.set_xticks(xticks)\n",
    "graphQ8sc.set_xticklabels([\"Face Scan\", \"Fingerprint Scan\", \"Handplam Scan\", \"Iris Scan\", \"DNA Test\", \"Signature Validation \", \"Voice Detection\"], rotation = 90)\n",
    "graphQ8sc.set(xlabel='Biometric Systems', ylabel='Preference Score %')\n",
    "graphQ8sc.set_title(\"Different biometric system with user preference\")"
   ]
  }
 ],
 "metadata": {
  "kernelspec": {
   "display_name": "Python 3",
   "language": "python",
   "name": "python3"
  },
  "language_info": {
   "codemirror_mode": {
    "name": "ipython",
    "version": 3
   },
   "file_extension": ".py",
   "mimetype": "text/x-python",
   "name": "python",
   "nbconvert_exporter": "python",
   "pygments_lexer": "ipython3",
   "version": "3.7.4"
  }
 },
 "nbformat": 4,
 "nbformat_minor": 2
}
