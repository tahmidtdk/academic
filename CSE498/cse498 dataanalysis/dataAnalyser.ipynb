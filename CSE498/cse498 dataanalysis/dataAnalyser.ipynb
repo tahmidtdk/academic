{
 "cells": [
  {
   "cell_type": "markdown",
   "metadata": {},
   "source": [
    "# The Reliability and Acceptance of Biometric System in Bangladesh: Users Perspective\n",
    "Survey data analysis using puthon3\n",
    "## Researchers:\n",
    "    Shaykh Siddique (shaykhsiddiqee@gmail.com)\n",
    "    Mushfiqul Alam (alammushfiqul366@gmail.com)\n",
    "    Monica Yasmin (y.monicamym@gmail.com)\n",
    "    Tasnova Bintee Taher (tasnovafabi@gmail.com)\n"
   ]
  },
  {
   "cell_type": "code",
   "execution_count": 1,
   "metadata": {},
   "outputs": [],
   "source": [
    "# Survey data analysis using puthon3\n",
    "import pandas as pd\n",
    "import numpy as np\n",
    "import seaborn as sns\n",
    "import matplotlib.pyplot as plt\n",
    "%matplotlib inline"
   ]
  },
  {
   "cell_type": "code",
   "execution_count": 2,
   "metadata": {},
   "outputs": [
    {
     "data": {
      "text/html": [
       "<div>\n",
       "<style scoped>\n",
       "    .dataframe tbody tr th:only-of-type {\n",
       "        vertical-align: middle;\n",
       "    }\n",
       "\n",
       "    .dataframe tbody tr th {\n",
       "        vertical-align: top;\n",
       "    }\n",
       "\n",
       "    .dataframe thead th {\n",
       "        text-align: right;\n",
       "    }\n",
       "</style>\n",
       "<table border=\"1\" class=\"dataframe\">\n",
       "  <thead>\n",
       "    <tr style=\"text-align: right;\">\n",
       "      <th></th>\n",
       "      <th>Timestamp</th>\n",
       "      <th>Q0</th>\n",
       "      <th>Q1</th>\n",
       "      <th>Q2</th>\n",
       "      <th>Q3</th>\n",
       "      <th>Q4</th>\n",
       "      <th>Q5-FS</th>\n",
       "      <th>Q5-HS</th>\n",
       "      <th>Q5-IS</th>\n",
       "      <th>Q5-DNA</th>\n",
       "      <th>...</th>\n",
       "      <th>Q11-VD</th>\n",
       "      <th>Q12</th>\n",
       "      <th>Q13-UF</th>\n",
       "      <th>Q13-SS</th>\n",
       "      <th>Q13-P</th>\n",
       "      <th>Q13-E</th>\n",
       "      <th>Q14</th>\n",
       "      <th>Q15</th>\n",
       "      <th>Q16</th>\n",
       "      <th>Q17</th>\n",
       "    </tr>\n",
       "  </thead>\n",
       "  <tbody>\n",
       "    <tr>\n",
       "      <td>0</td>\n",
       "      <td>2019/11/03 10:57:23 PM GMT+6</td>\n",
       "      <td>Yes</td>\n",
       "      <td>3.0</td>\n",
       "      <td>Agree</td>\n",
       "      <td>Agree</td>\n",
       "      <td>Strongly Disagree</td>\n",
       "      <td>Medium</td>\n",
       "      <td>Low</td>\n",
       "      <td>Very High</td>\n",
       "      <td>Very High</td>\n",
       "      <td>...</td>\n",
       "      <td>High</td>\n",
       "      <td>Strongly Agree</td>\n",
       "      <td>Often</td>\n",
       "      <td>Always</td>\n",
       "      <td>Always</td>\n",
       "      <td>Sometimes</td>\n",
       "      <td>4.0</td>\n",
       "      <td>Neutral</td>\n",
       "      <td>1.0</td>\n",
       "      <td>Agree</td>\n",
       "    </tr>\n",
       "    <tr>\n",
       "      <td>1</td>\n",
       "      <td>2019/11/03 10:57:47 PM GMT+6</td>\n",
       "      <td>Yes</td>\n",
       "      <td>5.0</td>\n",
       "      <td>Agree</td>\n",
       "      <td>Agree</td>\n",
       "      <td>Disagree</td>\n",
       "      <td>High</td>\n",
       "      <td>Low</td>\n",
       "      <td>High</td>\n",
       "      <td>High</td>\n",
       "      <td>...</td>\n",
       "      <td>Medium</td>\n",
       "      <td>Agree</td>\n",
       "      <td>Sometimes</td>\n",
       "      <td>Sometimes</td>\n",
       "      <td>Rarely</td>\n",
       "      <td>Sometimes</td>\n",
       "      <td>1.0</td>\n",
       "      <td>Neutral</td>\n",
       "      <td>5.0</td>\n",
       "      <td>Agree</td>\n",
       "    </tr>\n",
       "    <tr>\n",
       "      <td>2</td>\n",
       "      <td>2019/11/03 10:59:13 PM GMT+6</td>\n",
       "      <td>Yes</td>\n",
       "      <td>5.0</td>\n",
       "      <td>Agree</td>\n",
       "      <td>Agree</td>\n",
       "      <td>Agree</td>\n",
       "      <td>Low</td>\n",
       "      <td>Low</td>\n",
       "      <td>High</td>\n",
       "      <td>Very High</td>\n",
       "      <td>...</td>\n",
       "      <td>Medium</td>\n",
       "      <td>Agree</td>\n",
       "      <td>NaN</td>\n",
       "      <td>Always</td>\n",
       "      <td>Often</td>\n",
       "      <td>Sometimes</td>\n",
       "      <td>4.0</td>\n",
       "      <td>Disagree</td>\n",
       "      <td>3.0</td>\n",
       "      <td>Strongly Agree</td>\n",
       "    </tr>\n",
       "    <tr>\n",
       "      <td>3</td>\n",
       "      <td>2019/11/03 11:01:20 PM GMT+6</td>\n",
       "      <td>Yes</td>\n",
       "      <td>4.0</td>\n",
       "      <td>Strongly Agree</td>\n",
       "      <td>Disagree</td>\n",
       "      <td>Strongly Disagree</td>\n",
       "      <td>High</td>\n",
       "      <td>Medium</td>\n",
       "      <td>High</td>\n",
       "      <td>Very High</td>\n",
       "      <td>...</td>\n",
       "      <td>Low</td>\n",
       "      <td>Strongly Agree</td>\n",
       "      <td>Often</td>\n",
       "      <td>Always</td>\n",
       "      <td>Often</td>\n",
       "      <td>Often</td>\n",
       "      <td>2.0</td>\n",
       "      <td>Strongly Disagree</td>\n",
       "      <td>2.0</td>\n",
       "      <td>Strongly Agree</td>\n",
       "    </tr>\n",
       "    <tr>\n",
       "      <td>4</td>\n",
       "      <td>2019/11/03 11:02:18 PM GMT+6</td>\n",
       "      <td>Yes</td>\n",
       "      <td>4.0</td>\n",
       "      <td>Agree</td>\n",
       "      <td>Strongly Agree</td>\n",
       "      <td>Disagree</td>\n",
       "      <td>Low</td>\n",
       "      <td>Low</td>\n",
       "      <td>High</td>\n",
       "      <td>Very High</td>\n",
       "      <td>...</td>\n",
       "      <td>High</td>\n",
       "      <td>Agree</td>\n",
       "      <td>Always</td>\n",
       "      <td>Always</td>\n",
       "      <td>Often</td>\n",
       "      <td>Often</td>\n",
       "      <td>2.0</td>\n",
       "      <td>Agree</td>\n",
       "      <td>1.0</td>\n",
       "      <td>Agree</td>\n",
       "    </tr>\n",
       "  </tbody>\n",
       "</table>\n",
       "<p>5 rows × 43 columns</p>\n",
       "</div>"
      ],
      "text/plain": [
       "                      Timestamp   Q0   Q1              Q2              Q3  \\\n",
       "0  2019/11/03 10:57:23 PM GMT+6  Yes  3.0           Agree           Agree   \n",
       "1  2019/11/03 10:57:47 PM GMT+6  Yes  5.0           Agree           Agree   \n",
       "2  2019/11/03 10:59:13 PM GMT+6  Yes  5.0           Agree           Agree   \n",
       "3  2019/11/03 11:01:20 PM GMT+6  Yes  4.0  Strongly Agree        Disagree   \n",
       "4  2019/11/03 11:02:18 PM GMT+6  Yes  4.0           Agree  Strongly Agree   \n",
       "\n",
       "                  Q4   Q5-FS   Q5-HS      Q5-IS     Q5-DNA  ...  Q11-VD  \\\n",
       "0  Strongly Disagree  Medium     Low  Very High  Very High  ...    High   \n",
       "1           Disagree    High     Low       High       High  ...  Medium   \n",
       "2              Agree     Low     Low       High  Very High  ...  Medium   \n",
       "3  Strongly Disagree    High  Medium       High  Very High  ...     Low   \n",
       "4           Disagree     Low     Low       High  Very High  ...    High   \n",
       "\n",
       "              Q12     Q13-UF     Q13-SS   Q13-P      Q13-E  Q14  \\\n",
       "0  Strongly Agree      Often     Always  Always  Sometimes  4.0   \n",
       "1           Agree  Sometimes  Sometimes  Rarely  Sometimes  1.0   \n",
       "2           Agree        NaN     Always   Often  Sometimes  4.0   \n",
       "3  Strongly Agree      Often     Always   Often      Often  2.0   \n",
       "4           Agree     Always     Always   Often      Often  2.0   \n",
       "\n",
       "                 Q15  Q16             Q17  \n",
       "0            Neutral  1.0           Agree  \n",
       "1            Neutral  5.0           Agree  \n",
       "2           Disagree  3.0  Strongly Agree  \n",
       "3  Strongly Disagree  2.0  Strongly Agree  \n",
       "4              Agree  1.0           Agree  \n",
       "\n",
       "[5 rows x 43 columns]"
      ]
     },
     "execution_count": 2,
     "metadata": {},
     "output_type": "execute_result"
    }
   ],
   "source": [
    "dataFile = pd.read_csv(\"datafinal.csv\")\n",
    "dataFile.head()"
   ]
  },
  {
   "cell_type": "markdown",
   "metadata": {},
   "source": [
    "## Data Cleaning & Preaparaton\n",
    "Question. Do you want to continue participating in this research study?\n",
    "\n",
    "Drop all the no answering rows"
   ]
  },
  {
   "cell_type": "code",
   "execution_count": 3,
   "metadata": {},
   "outputs": [
    {
     "name": "stdout",
     "output_type": "stream",
     "text": [
      "Total Data length: 174\n",
      "Response Rate: 98.85057471264368%\n"
     ]
    }
   ],
   "source": [
    "\n",
    "totalResp = len(dataFile)\n",
    "noResp = len(dataFile[dataFile[\"Q0\"] == \"No\"])\n",
    "yesResp = len(dataFile[dataFile[\"Q0\"] == \"Yes\"])\n",
    "print(\"Total Data length: \"+str(totalResp))\n",
    "print(\"Response Rate: \"+str(yesResp*100/totalResp)+\"%\")\n",
    "\n",
    "dataFile_cleand = dataFile.drop(dataFile[dataFile[\"Q0\"] == \"No\"].index, axis=0)\n",
    "\n"
   ]
  },
  {
   "cell_type": "code",
   "execution_count": 4,
   "metadata": {},
   "outputs": [
    {
     "data": {
      "text/html": [
       "<div>\n",
       "<style scoped>\n",
       "    .dataframe tbody tr th:only-of-type {\n",
       "        vertical-align: middle;\n",
       "    }\n",
       "\n",
       "    .dataframe tbody tr th {\n",
       "        vertical-align: top;\n",
       "    }\n",
       "\n",
       "    .dataframe thead th {\n",
       "        text-align: right;\n",
       "    }\n",
       "</style>\n",
       "<table border=\"1\" class=\"dataframe\">\n",
       "  <thead>\n",
       "    <tr style=\"text-align: right;\">\n",
       "      <th></th>\n",
       "      <th>Timestamp</th>\n",
       "      <th>Q0</th>\n",
       "      <th>Q1</th>\n",
       "      <th>Q2</th>\n",
       "      <th>Q3</th>\n",
       "      <th>Q4</th>\n",
       "      <th>Q5-FS</th>\n",
       "      <th>Q5-HS</th>\n",
       "      <th>Q5-IS</th>\n",
       "      <th>Q5-DNA</th>\n",
       "      <th>...</th>\n",
       "      <th>Q11-VD</th>\n",
       "      <th>Q12</th>\n",
       "      <th>Q13-UF</th>\n",
       "      <th>Q13-SS</th>\n",
       "      <th>Q13-P</th>\n",
       "      <th>Q13-E</th>\n",
       "      <th>Q14</th>\n",
       "      <th>Q15</th>\n",
       "      <th>Q16</th>\n",
       "      <th>Q17</th>\n",
       "    </tr>\n",
       "  </thead>\n",
       "  <tbody>\n",
       "    <tr>\n",
       "      <td>0</td>\n",
       "      <td>2019/11/03 10:57:23 PM GMT+6</td>\n",
       "      <td>Yes</td>\n",
       "      <td>3.0</td>\n",
       "      <td>4.0</td>\n",
       "      <td>4.0</td>\n",
       "      <td>1.0</td>\n",
       "      <td>3.0</td>\n",
       "      <td>2.0</td>\n",
       "      <td>5.0</td>\n",
       "      <td>5.0</td>\n",
       "      <td>...</td>\n",
       "      <td>4.0</td>\n",
       "      <td>5.0</td>\n",
       "      <td>4.0</td>\n",
       "      <td>5.0</td>\n",
       "      <td>5.0</td>\n",
       "      <td>3.0</td>\n",
       "      <td>4.0</td>\n",
       "      <td>3.0</td>\n",
       "      <td>1.0</td>\n",
       "      <td>4.0</td>\n",
       "    </tr>\n",
       "    <tr>\n",
       "      <td>1</td>\n",
       "      <td>2019/11/03 10:57:47 PM GMT+6</td>\n",
       "      <td>Yes</td>\n",
       "      <td>5.0</td>\n",
       "      <td>4.0</td>\n",
       "      <td>4.0</td>\n",
       "      <td>2.0</td>\n",
       "      <td>4.0</td>\n",
       "      <td>2.0</td>\n",
       "      <td>4.0</td>\n",
       "      <td>4.0</td>\n",
       "      <td>...</td>\n",
       "      <td>3.0</td>\n",
       "      <td>4.0</td>\n",
       "      <td>3.0</td>\n",
       "      <td>3.0</td>\n",
       "      <td>2.0</td>\n",
       "      <td>3.0</td>\n",
       "      <td>1.0</td>\n",
       "      <td>3.0</td>\n",
       "      <td>5.0</td>\n",
       "      <td>4.0</td>\n",
       "    </tr>\n",
       "    <tr>\n",
       "      <td>2</td>\n",
       "      <td>2019/11/03 10:59:13 PM GMT+6</td>\n",
       "      <td>Yes</td>\n",
       "      <td>5.0</td>\n",
       "      <td>4.0</td>\n",
       "      <td>4.0</td>\n",
       "      <td>4.0</td>\n",
       "      <td>2.0</td>\n",
       "      <td>2.0</td>\n",
       "      <td>4.0</td>\n",
       "      <td>5.0</td>\n",
       "      <td>...</td>\n",
       "      <td>3.0</td>\n",
       "      <td>4.0</td>\n",
       "      <td>NaN</td>\n",
       "      <td>5.0</td>\n",
       "      <td>4.0</td>\n",
       "      <td>3.0</td>\n",
       "      <td>4.0</td>\n",
       "      <td>2.0</td>\n",
       "      <td>3.0</td>\n",
       "      <td>5.0</td>\n",
       "    </tr>\n",
       "    <tr>\n",
       "      <td>3</td>\n",
       "      <td>2019/11/03 11:01:20 PM GMT+6</td>\n",
       "      <td>Yes</td>\n",
       "      <td>4.0</td>\n",
       "      <td>5.0</td>\n",
       "      <td>2.0</td>\n",
       "      <td>1.0</td>\n",
       "      <td>4.0</td>\n",
       "      <td>3.0</td>\n",
       "      <td>4.0</td>\n",
       "      <td>5.0</td>\n",
       "      <td>...</td>\n",
       "      <td>2.0</td>\n",
       "      <td>5.0</td>\n",
       "      <td>4.0</td>\n",
       "      <td>5.0</td>\n",
       "      <td>4.0</td>\n",
       "      <td>4.0</td>\n",
       "      <td>2.0</td>\n",
       "      <td>1.0</td>\n",
       "      <td>2.0</td>\n",
       "      <td>5.0</td>\n",
       "    </tr>\n",
       "    <tr>\n",
       "      <td>4</td>\n",
       "      <td>2019/11/03 11:02:18 PM GMT+6</td>\n",
       "      <td>Yes</td>\n",
       "      <td>4.0</td>\n",
       "      <td>4.0</td>\n",
       "      <td>5.0</td>\n",
       "      <td>2.0</td>\n",
       "      <td>2.0</td>\n",
       "      <td>2.0</td>\n",
       "      <td>4.0</td>\n",
       "      <td>5.0</td>\n",
       "      <td>...</td>\n",
       "      <td>4.0</td>\n",
       "      <td>4.0</td>\n",
       "      <td>5.0</td>\n",
       "      <td>5.0</td>\n",
       "      <td>4.0</td>\n",
       "      <td>4.0</td>\n",
       "      <td>2.0</td>\n",
       "      <td>4.0</td>\n",
       "      <td>1.0</td>\n",
       "      <td>4.0</td>\n",
       "    </tr>\n",
       "  </tbody>\n",
       "</table>\n",
       "<p>5 rows × 43 columns</p>\n",
       "</div>"
      ],
      "text/plain": [
       "                      Timestamp   Q0   Q1   Q2   Q3   Q4  Q5-FS  Q5-HS  Q5-IS  \\\n",
       "0  2019/11/03 10:57:23 PM GMT+6  Yes  3.0  4.0  4.0  1.0    3.0    2.0    5.0   \n",
       "1  2019/11/03 10:57:47 PM GMT+6  Yes  5.0  4.0  4.0  2.0    4.0    2.0    4.0   \n",
       "2  2019/11/03 10:59:13 PM GMT+6  Yes  5.0  4.0  4.0  4.0    2.0    2.0    4.0   \n",
       "3  2019/11/03 11:01:20 PM GMT+6  Yes  4.0  5.0  2.0  1.0    4.0    3.0    4.0   \n",
       "4  2019/11/03 11:02:18 PM GMT+6  Yes  4.0  4.0  5.0  2.0    2.0    2.0    4.0   \n",
       "\n",
       "   Q5-DNA  ...  Q11-VD  Q12 Q13-UF  Q13-SS  Q13-P  Q13-E  Q14  Q15  Q16  Q17  \n",
       "0     5.0  ...     4.0  5.0    4.0     5.0    5.0    3.0  4.0  3.0  1.0  4.0  \n",
       "1     4.0  ...     3.0  4.0    3.0     3.0    2.0    3.0  1.0  3.0  5.0  4.0  \n",
       "2     5.0  ...     3.0  4.0    NaN     5.0    4.0    3.0  4.0  2.0  3.0  5.0  \n",
       "3     5.0  ...     2.0  5.0    4.0     5.0    4.0    4.0  2.0  1.0  2.0  5.0  \n",
       "4     5.0  ...     4.0  4.0    5.0     5.0    4.0    4.0  2.0  4.0  1.0  4.0  \n",
       "\n",
       "[5 rows x 43 columns]"
      ]
     },
     "execution_count": 4,
     "metadata": {},
     "output_type": "execute_result"
    }
   ],
   "source": [
    "# for Q1. How frequently do you use the biometric authentication system?\n",
    "# 1 =never and 5 = always skip all the never answers\n",
    "dataFile_cleand = dataFile.drop(dataFile[dataFile[\"Q1\"] == 1].index, axis=0)\n",
    "\n",
    "# for Q2. Do you think it is possible to steal your biometric data from these kinds of services(Personal Devices or Online Banks/NID/Mobile Phone Companies)?\n",
    "# aggree and disaggree, if any person skip this answer it will be consider as neutral\n",
    "\n",
    "dataFile_cleand = dataFile_cleand.replace(\"Strongly Disagree\", 1)\n",
    "dataFile_cleand = dataFile_cleand.replace(\"Disagree\", 2)\n",
    "dataFile_cleand = dataFile_cleand.replace(\"Neutral\", 3)\n",
    "dataFile_cleand = dataFile_cleand.replace(\"Agree\", 4)\n",
    "dataFile_cleand = dataFile_cleand.replace(\"Strongly Agree\", 5)\n",
    "# for Q5. For this case, rate the biometric systems which are more reliable\n",
    "# Q5-FS\tQ5-HS\tQ5-IS\tQ5-DNA\tQ5-SV\tQ5-VD\n",
    "dataFile_cleand = dataFile_cleand.replace(\"Very Low\",1)\n",
    "dataFile_cleand = dataFile_cleand.replace(\"Low\",2)\n",
    "dataFile_cleand = dataFile_cleand.replace(\"Medium\",3)\n",
    "dataFile_cleand = dataFile_cleand.replace(\"High\",4)\n",
    "dataFile_cleand = dataFile_cleand.replace(\"Very High\",5)\n",
    "\n",
    "# for Q13. Do you ever use any third-party applications that need/store biometric information?\n",
    "# never often always\n",
    "dataFile_cleand = dataFile_cleand.replace(\"Never\",1)\n",
    "dataFile_cleand = dataFile_cleand.replace(\"Rarely\",2)\n",
    "dataFile_cleand = dataFile_cleand.replace(\"Sometimes\",3)\n",
    "dataFile_cleand = dataFile_cleand.replace(\"Often\",4)\n",
    "dataFile_cleand = dataFile_cleand.replace(\"Always\",5)\n",
    "\n",
    "dataFile_cleand.head()"
   ]
  },
  {
   "cell_type": "markdown",
   "metadata": {},
   "source": [
    "## This part of analysis will fullfill objective 1\n",
    "> To analyze user reviews about the quality and reliability of biometric systems.\n",
    "\n",
    "Three main question analysis\n",
    "\n",
    "- Q17. Do you think instead of using a password/pin based security system, the biometric system can give more security to users?\n",
    "- Q8. On the basis of your use, which biometric authentication technique would you prefer most?\n",
    "- Q10. What are the most common issues you faced?"
   ]
  },
  {
   "cell_type": "code",
   "execution_count": 5,
   "metadata": {},
   "outputs": [
    {
     "name": "stdout",
     "output_type": "stream",
     "text": [
      "4.0    75\n",
      "3.0    41\n",
      "5.0    23\n",
      "2.0    11\n",
      "1.0     5\n",
      "Name: Q17, dtype: int64\n"
     ]
    },
    {
     "data": {
      "text/plain": [
       "Text(0.5, 1.0, 'Satisfiction on password/pin vs biometric system')"
      ]
     },
     "execution_count": 5,
     "metadata": {},
     "output_type": "execute_result"
    },
    {
     "data": {
      "image/png": "[encoded data removed]",
      "text/plain": [
       "<Figure size 432x288 with 1 Axes>"
      ]
     },
     "metadata": {
      "needs_background": "light"
     },
     "output_type": "display_data"
    }
   ],
   "source": [
    "# analysis of Q17\n",
    "# biometric - 4+5, pass- 1+2, neutral-3\n",
    "print(dataFile_cleand[\"Q17\"].value_counts())\n",
    "\n",
    "grpQ17 = dataFile_cleand[\"Q17\"].plot.hist(bins=3)\n",
    "xticks = [1.5, 3, 4.5]\n",
    "grpQ17.set_xticks(xticks)\n",
    "grpQ17.set_xticklabels([\"Password/Pin\", \"Neutral\", \"Biometric System\"])\n",
    "grpQ17.set_title(\"Satisfiction on password/pin vs biometric system\")"
   ]
  },
  {
   "cell_type": "code",
   "execution_count": 6,
   "metadata": {},
   "outputs": [
    {
     "name": "stdout",
     "output_type": "stream",
     "text": [
      "Values:  [49.18238993710692, 61.63522012578616, 46.289308176100626, 60.62893081761006, 59.874213836477985, 43.144654088050316, 43.270440251572325]\n"
     ]
    },
    {
     "data": {
      "text/plain": [
       "Text(0.5, 1.0, 'Different biometric system with user preference')"
      ]
     },
     "execution_count": 6,
     "metadata": {},
     "output_type": "execute_result"
    },
    {
     "data": {
      "image/png": "[encoded data removed]",
      "text/plain": [
       "<Figure size 432x288 with 1 Axes>"
      ]
     },
     "metadata": {
      "needs_background": "light"
     },
     "output_type": "display_data"
    }
   ],
   "source": [
    "# analysis of Q8\n",
    "qtn_tit = [\"Q8-FD\", \"Q8-FS\", \"Q8-HS\", \"Q8-IS\", \"Q8-DNA\", \"Q8-SV\", \"Q8-VD\"]\n",
    "totalScore = len(dataFile_cleand[\"Q8-FS\"]) * 5\n",
    "totalrespQ8 = []\n",
    "for j, val in enumerate(qtn_tit):\n",
    "    totalrespQ8.append((dataFile_cleand[val].sum()*100)/totalScore)\n",
    "\n",
    "print(\"Values: \", totalrespQ8)\n",
    "xticks = [0, 1, 2, 3, 4, 5, 6]\n",
    "graphQ8sc = sns.barplot(x = xticks, y = totalrespQ8)\n",
    "\n",
    "graphQ8sc.set_xticks(xticks)\n",
    "graphQ8sc.set_xticklabels([\"Face Scan\", \"Fingerprint Scan\", \"Handplam Scan\", \"Iris Scan\", \"DNA Test\", \"Signature Validation \", \"Voice Detection\"], rotation = 90)\n",
    "graphQ8sc.set(xlabel='Biometric Systems', ylabel='Preference Score %')\n",
    "graphQ8sc.set_title(\"Different biometric system with user preference\")"
   ]
  },
  {
   "cell_type": "code",
   "execution_count": 7,
   "metadata": {
    "scrolled": true
   },
   "outputs": [
    {
     "name": "stdout",
     "output_type": "stream",
     "text": [
      "values: [[16, 36, 66, 20, 6], [9, 45, 51, 28, 7], [13, 34, 55, 30, 12], [14, 29, 64, 27, 10], [25, 29, 41, 13, 4]]\n"
     ]
    },
    {
     "data": {
      "text/plain": [
       "Text(0.5, 1, 'Major issues of Biometric Systems')"
      ]
     },
     "execution_count": 7,
     "metadata": {},
     "output_type": "execute_result"
    },
    {
     "data": {
      "image/png": "[encoded data removed]",
      "text/plain": [
       "<Figure size 432x288 with 2 Axes>"
      ]
     },
     "metadata": {
      "needs_background": "light"
     },
     "output_type": "display_data"
    }
   ],
   "source": [
    "# analysis of Q10\n",
    "# Q10-HF\tQ10-VS\tQ10-VDS\tQ10-AF\tQ10-O\n",
    "Q10ttl = [\"Q10-HF\", \"Q10-VS\", \"Q10-VDS\", \"Q10-AF\", \"Q10-O\"]\n",
    "issuesCrosscheck = [[]]\n",
    "for j, val in enumerate(Q10ttl):\n",
    "    if j:\n",
    "        issuesCrosscheck.append([])\n",
    "    for i in range(0,5):\n",
    "        issuesCrosscheck[j].append(len(dataFile_cleand[dataFile_cleand[val] == i+1]))\n",
    "    \n",
    "print(\"values:\", issuesCrosscheck)\n",
    "graphQ10 = sns.heatmap(issuesCrosscheck, vmin=0, vmax=40, cmap=\"YlGnBu\")  \n",
    "xticks = [0.5, 1.5, 2.5, 3.5, 4.5]\n",
    "yticks = [0, 0.5, 1.5, 2.5, 3.5, 4.5, 5]\n",
    "graphQ10.set_xticks(xticks)\n",
    "graphQ10.set_yticks(yticks)\n",
    "graphQ10.invert_yaxis()\n",
    "graphQ10.set_xticklabels([\"Never\", \"Rarely\", \"Sometimes\", \"Often\", \"Always\"])\n",
    "graphQ10.set_yticklabels([\"\",\"Hardware Failure\", \"Vulnerable Software\", \"Vulnerable Data Storage\", \"Authorization Failure for real person\", \"Others\"],  rotation = 0)\n",
    "graphQ10.set(ylabel='Biometric Systems', xlabel='Frequency')\n",
    "graphQ10.set_title(\"Major issues of Biometric Systems\")"
   ]
  },
  {
   "cell_type": "markdown",
   "metadata": {},
   "source": [
    "## This part of analysis will fullfill objective 2\n",
    ">  To assess user concerns about biometric data privacy.\n",
    "\n",
    "Some questions:\n",
    "- Q7. In Sic-fiction movies, we see the thief took the victim’s fingerprints or make the victim unconscious and collect biometric information. Do you think it’s possible in real life?\n",
    "- Q6. If any reason, you are failed to access the biometric security system what kind of secondary mechanism (recovery option) you prefer to use?\n",
    "- Q14. Do you ever use any third-party applications that need/store biometric information?\n",
    "- Q15 and Q16. Do you think all kinds of biometric systems have well-defined Terms and Conditions?"
   ]
  },
  {
   "cell_type": "code",
   "execution_count": 11,
   "metadata": {
    "scrolled": true
   },
   "outputs": [
    {
     "data": {
      "text/plain": [
       "Text(0.5, 1.0, 'User Concerns about fooling a device')"
      ]
     },
     "execution_count": 11,
     "metadata": {},
     "output_type": "execute_result"
    },
    {
     "data": {
      "image/png": "[encoded data removed]",
      "text/plain": [
       "<Figure size 360x360 with 1 Axes>"
      ]
     },
     "metadata": {},
     "output_type": "display_data"
    }
   ],
   "source": [
    "# analysis of Q7 and Q 14 will decscribe together\n",
    "\n",
    "def func(pct, allvals):\n",
    "    absolute = int(pct/100.*np.sum(allvals))\n",
    "    return \"{:.1f}%\\n({:d})\".format(pct, absolute)\n",
    "# sum of tolat response\n",
    "arr_total=[]\n",
    "for i in range(1,6):\n",
    "    arr_total.append(len(dataFile_cleand[dataFile_cleand[\"Q7\"] == i]))\n",
    "    \n",
    "fig, ax = plt.subplots(figsize=(5, 5), subplot_kw=dict(aspect=\"equal\"))    \n",
    "\n",
    "wedges, texts, autotexts = ax.pie(arr_total, colors=[\"lightgrey\", \"silver\", \"black\", \"dimgrey\", \"grey\"],autopct=lambda pct: func(pct, arr_total), textprops=dict(color=\"W\"))\n",
    "ingredients = [\"Never\", \"Rarely\", \"Sometimes\", \"Often\", \"Always\"]\n",
    "ax.legend(wedges, ingredients, title=\"Frequency\", loc=\"center left\", bbox_to_anchor=(1, 0, 0.5, 1))\n",
    "ax.set_title(\"User Concerns about fooling a device\")"
   ]
  },
  {
   "cell_type": "code",
   "execution_count": 9,
   "metadata": {},
   "outputs": [
    {
     "name": "stdout",
     "output_type": "stream",
     "text": [
      "Values [46, 40, 25, 2]\n"
     ]
    },
    {
     "data": {
      "text/plain": [
       "Text(0.5, 1.0, 'Recovery Mechanisms')"
      ]
     },
     "execution_count": 9,
     "metadata": {},
     "output_type": "execute_result"
    },
    {
     "data": {
      "image/png": "[encoded data removed]",
      "text/plain": [
       "<Figure size 432x288 with 1 Axes>"
      ]
     },
     "metadata": {
      "needs_background": "light"
     },
     "output_type": "display_data"
    }
   ],
   "source": [
    "# analysis of Q6\n",
    "\n",
    "factarr = [\"Recovery Email or Message\", \"Password or Pin\", \"Multi-Biometric Authentication\", \"None\"]\n",
    "totalQ6group =[]\n",
    "for val in factarr:\n",
    "    totalQ6group.append(len(dataFile_cleand[dataFile_cleand[\"Q6\"] == val]))\n",
    "print(\"Values\", totalQ6group)\n",
    "graphQ6 = sns.barplot(y=totalQ6group, x=factarr)\n",
    "graphQ6.set_xticklabels(factarr, rotation=90)\n",
    "graphQ6.set(xlabel='Recovery Options', ylabel='Number of People')\n",
    "graphQ6.set_title(\"Recovery Mechanisms\")"
   ]
  },
  {
   "cell_type": "code",
   "execution_count": 12,
   "metadata": {
    "scrolled": false
   },
   "outputs": [
    {
     "name": "stdout",
     "output_type": "stream",
     "text": [
      "values [59, 29, 35, 24, 7]\n"
     ]
    },
    {
     "data": {
      "text/plain": [
       "Text(0.5, 1.0, 'Third-Party Software users that collects biometric information')"
      ]
     },
     "execution_count": 12,
     "metadata": {},
     "output_type": "execute_result"
    },
    {
     "data": {
      "image/png": "[encoded data removed]",
      "text/plain": [
       "<Figure size 360x360 with 1 Axes>"
      ]
     },
     "metadata": {},
     "output_type": "display_data"
    }
   ],
   "source": [
    "# analysis of Q14 and Q7 will decscribe together\n",
    "\n",
    "# qstn 14 analysis\n",
    "arr_totalQ14=[]\n",
    "for i in range(1,6):\n",
    "    arr_totalQ14.append(len(dataFile_cleand[dataFile_cleand[\"Q14\"] == i]))\n",
    "    \n",
    "print(\"values\", arr_totalQ14)\n",
    "fig, ax = plt.subplots(figsize=(5, 5), subplot_kw=dict(aspect=\"equal\"))\n",
    "wedges, texts, autotexts = ax.pie(arr_totalQ14, colors=[\"black\", \"dimgrey\", \"grey\", \"silver\", \"lightgrey\"],autopct=lambda pct: func(pct, arr_total), textprops=dict(color=\"W\"))\n",
    "ingredients = [\"Never\", \"Rarely\", \"Sometimes\", \"Often\", \"Always\"]\n",
    "ax.legend(wedges, ingredients, title=\"Frequency\", loc=\"center left\", bbox_to_anchor=(1, 0, 0.5, 1))\n",
    "ax.set_title(\"Third-Party Software users that collects biometric information\")"
   ]
  },
  {
   "cell_type": "markdown",
   "metadata": {},
   "source": [
    "## Question Q15 and Q16, no figure need. Only analysis part will written in report.\n",
    "for more details check google form data visualization part."
   ]
  },
  {
   "cell_type": "code",
   "execution_count": 19,
   "metadata": {},
   "outputs": [
    {
     "data": {
      "text/html": [
       "<div>\n",
       "<style scoped>\n",
       "    .dataframe tbody tr th:only-of-type {\n",
       "        vertical-align: middle;\n",
       "    }\n",
       "\n",
       "    .dataframe tbody tr th {\n",
       "        vertical-align: top;\n",
       "    }\n",
       "\n",
       "    .dataframe thead th {\n",
       "        text-align: right;\n",
       "    }\n",
       "</style>\n",
       "<table border=\"1\" class=\"dataframe\">\n",
       "  <thead>\n",
       "    <tr style=\"text-align: right;\">\n",
       "      <th></th>\n",
       "      <th>Q15</th>\n",
       "      <th>Q16</th>\n",
       "    </tr>\n",
       "  </thead>\n",
       "  <tbody>\n",
       "    <tr>\n",
       "      <td>count</td>\n",
       "      <td>154.000000</td>\n",
       "      <td>156.000000</td>\n",
       "    </tr>\n",
       "    <tr>\n",
       "      <td>mean</td>\n",
       "      <td>2.941558</td>\n",
       "      <td>2.698718</td>\n",
       "    </tr>\n",
       "    <tr>\n",
       "      <td>std</td>\n",
       "      <td>0.834211</td>\n",
       "      <td>1.287257</td>\n",
       "    </tr>\n",
       "    <tr>\n",
       "      <td>min</td>\n",
       "      <td>1.000000</td>\n",
       "      <td>1.000000</td>\n",
       "    </tr>\n",
       "    <tr>\n",
       "      <td>25%</td>\n",
       "      <td>2.250000</td>\n",
       "      <td>2.000000</td>\n",
       "    </tr>\n",
       "    <tr>\n",
       "      <td>50%</td>\n",
       "      <td>3.000000</td>\n",
       "      <td>3.000000</td>\n",
       "    </tr>\n",
       "    <tr>\n",
       "      <td>75%</td>\n",
       "      <td>3.000000</td>\n",
       "      <td>4.000000</td>\n",
       "    </tr>\n",
       "    <tr>\n",
       "      <td>max</td>\n",
       "      <td>5.000000</td>\n",
       "      <td>5.000000</td>\n",
       "    </tr>\n",
       "  </tbody>\n",
       "</table>\n",
       "</div>"
      ],
      "text/plain": [
       "              Q15         Q16\n",
       "count  154.000000  156.000000\n",
       "mean     2.941558    2.698718\n",
       "std      0.834211    1.287257\n",
       "min      1.000000    1.000000\n",
       "25%      2.250000    2.000000\n",
       "50%      3.000000    3.000000\n",
       "75%      3.000000    4.000000\n",
       "max      5.000000    5.000000"
      ]
     },
     "execution_count": 19,
     "metadata": {},
     "output_type": "execute_result"
    }
   ],
   "source": [
    "dataFile_cleand[[\"Q15\", \"Q16\"]].describe()"
   ]
  }
 ],
 "metadata": {
  "kernelspec": {
   "display_name": "Python 3",
   "language": "python",
   "name": "python3"
  },
  "language_info": {
   "codemirror_mode": {
    "name": "ipython",
    "version": 3
   },
   "file_extension": ".py",
   "mimetype": "text/x-python",
   "name": "python",
   "nbconvert_exporter": "python",
   "pygments_lexer": "ipython3",
   "version": "3.7.4"
  }
 },
 "nbformat": 4,
 "nbformat_minor": 2
}
