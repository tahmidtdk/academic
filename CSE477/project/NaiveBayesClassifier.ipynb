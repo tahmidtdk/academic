{
 "cells": [
  {
   "cell_type": "code",
   "execution_count": 1,
   "metadata": {},
   "outputs": [],
   "source": [
    "import pandas as pd"
   ]
  },
  {
   "cell_type": "code",
   "execution_count": 2,
   "metadata": {},
   "outputs": [],
   "source": [
    "# data reading from file\n",
    "dataset = pd.read_csv(r\"./balloons_dataset.csv\")"
   ]
  },
  {
   "cell_type": "code",
   "execution_count": 3,
   "metadata": {},
   "outputs": [
    {
     "data": {
      "text/html": [
       "<div>\n",
       "<style scoped>\n",
       "    .dataframe tbody tr th:only-of-type {\n",
       "        vertical-align: middle;\n",
       "    }\n",
       "\n",
       "    .dataframe tbody tr th {\n",
       "        vertical-align: top;\n",
       "    }\n",
       "\n",
       "    .dataframe thead th {\n",
       "        text-align: right;\n",
       "    }\n",
       "</style>\n",
       "<table border=\"1\" class=\"dataframe\">\n",
       "  <thead>\n",
       "    <tr style=\"text-align: right;\">\n",
       "      <th></th>\n",
       "      <th>color</th>\n",
       "      <th>size</th>\n",
       "      <th>act</th>\n",
       "      <th>age</th>\n",
       "      <th>inflated</th>\n",
       "    </tr>\n",
       "  </thead>\n",
       "  <tbody>\n",
       "    <tr>\n",
       "      <th>0</th>\n",
       "      <td>YELLOW</td>\n",
       "      <td>SMALL</td>\n",
       "      <td>STRETCH</td>\n",
       "      <td>ADULT</td>\n",
       "      <td>T</td>\n",
       "    </tr>\n",
       "    <tr>\n",
       "      <th>1</th>\n",
       "      <td>YELLOW</td>\n",
       "      <td>SMALL</td>\n",
       "      <td>STRETCH</td>\n",
       "      <td>ADULT</td>\n",
       "      <td>T</td>\n",
       "    </tr>\n",
       "    <tr>\n",
       "      <th>2</th>\n",
       "      <td>YELLOW</td>\n",
       "      <td>SMALL</td>\n",
       "      <td>STRETCH</td>\n",
       "      <td>ADULT</td>\n",
       "      <td>T</td>\n",
       "    </tr>\n",
       "    <tr>\n",
       "      <th>3</th>\n",
       "      <td>YELLOW</td>\n",
       "      <td>SMALL</td>\n",
       "      <td>STRETCH</td>\n",
       "      <td>ADULT</td>\n",
       "      <td>T</td>\n",
       "    </tr>\n",
       "    <tr>\n",
       "      <th>4</th>\n",
       "      <td>YELLOW</td>\n",
       "      <td>SMALL</td>\n",
       "      <td>STRETCH</td>\n",
       "      <td>ADULT</td>\n",
       "      <td>T</td>\n",
       "    </tr>\n",
       "  </tbody>\n",
       "</table>\n",
       "</div>"
      ],
      "text/plain": [
       "    color   size      act    age inflated\n",
       "0  YELLOW  SMALL  STRETCH  ADULT        T\n",
       "1  YELLOW  SMALL  STRETCH  ADULT        T\n",
       "2  YELLOW  SMALL  STRETCH  ADULT        T\n",
       "3  YELLOW  SMALL  STRETCH  ADULT        T\n",
       "4  YELLOW  SMALL  STRETCH  ADULT        T"
      ]
     },
     "execution_count": 3,
     "metadata": {},
     "output_type": "execute_result"
    }
   ],
   "source": [
    "dataset.head(5)"
   ]
  },
  {
   "cell_type": "code",
   "execution_count": 4,
   "metadata": {},
   "outputs": [
    {
     "data": {
      "text/plain": [
       "['color', 'size', 'act', 'age']"
      ]
     },
     "execution_count": 4,
     "metadata": {},
     "output_type": "execute_result"
    }
   ],
   "source": [
    "# define the class predition\n",
    "features = dataset.columns\n",
    "features = features.drop('inflated')\n",
    "features = list(features)\n",
    "features"
   ]
  },
  {
   "cell_type": "code",
   "execution_count": 5,
   "metadata": {},
   "outputs": [],
   "source": [
    "def cPString(trainData, featureName):\n",
    "#     make unique set of class feature\n",
    "    avcSet = dict()\n",
    "    DistFeature = set(trainData[featureName])\n",
    "    c1=0\n",
    "    c2=0\n",
    "    for val in trainData.inflated:\n",
    "        if val=='T':\n",
    "            c1=c1+1\n",
    "        else:\n",
    "            c2 = c2+1\n",
    "    \n",
    "#     define probability of class feature\n",
    "    avcSet['T'] = c1/len(trainData.inflated)\n",
    "    avcSet['F'] = c2/len(trainData.inflated)\n",
    "    \n",
    "    for x in DistFeature:\n",
    "        avcSet[x+'|T']=0\n",
    "        avcSet[x+'|F']=0\n",
    "    indx=0    \n",
    "    for feat in trainData[featureName]:\n",
    "        avcSet[feat+'|'+trainData.inflated[indx]]+=1\n",
    "        indx+=1\n",
    "    \n",
    "#     laplacian transform checking\n",
    "    c1_error, c2_error = False, False\n",
    "    for key in avcSet:\n",
    "        if key[len(key)-1] == 'T' and avcSet[key] == 0:\n",
    "            c1_error = True\n",
    "        elif key[len(key)-1] == 'F' and avcSet[key] == 0:\n",
    "            c2_error = True\n",
    "            \n",
    "#     calculate probability\n",
    "    for key in avcSet:\n",
    "        if key[len(key)-1] == 'T':\n",
    "            if c1_error:\n",
    "                avcSet[key] = (avcSet[key]+1) / (c1+len(DistFeature))\n",
    "            else:\n",
    "                avcSet[key] = avcSet[key] / c1\n",
    "        else:\n",
    "            if c2_error:\n",
    "                avcSet[key] = (avcSet[key]+1) / (c2+len(DistFeature))\n",
    "            else:\n",
    "                avcSet[key] = avcSet[key] / c2\n",
    "    return avcSet\n",
    "    "
   ]
  },
  {
   "cell_type": "code",
   "execution_count": 6,
   "metadata": {},
   "outputs": [],
   "source": [
    "def ConditionalProbability(data, features, classfeature):\n",
    "    # define train dataset\n",
    "    x_train = dataset\n",
    "    dataStorage = dict()\n",
    "    for feature in features:\n",
    "        dataStorage.update(cPString(data[[feature, classfeature]], feature))\n",
    "    return dataStorage"
   ]
  },
  {
   "cell_type": "code",
   "execution_count": 7,
   "metadata": {},
   "outputs": [
    {
     "name": "stdout",
     "output_type": "stream",
     "text": [
      "{'T': 0.03333333333333333, 'F': 0.01, 'PURPLE|T': 0.5, 'PURPLE|F': 0.5, 'YELLOW|T': 0.5, 'YELLOW|F': 0.5, 'LARGE|T': 0.5, 'LARGE|F': 0.5, 'SMALL|T': 0.5, 'SMALL|F': 0.5, 'STRETCH|T': 0.9761904761904762, 'STRETCH|F': 0.3333333333333333, 'DIP|T': 0.023809523809523808, 'DIP|F': 0.6666666666666666, 'ADULT|T': 0.9761904761904762, 'ADULT|F': 0.3333333333333333, 'CHILD|T': 0.023809523809523808, 'CHILD|F': 0.6666666666666666}\n"
     ]
    }
   ],
   "source": [
    "# calculate conditional probability\n",
    "processedData = ConditionalProbability(dataset, features, 'inflated')\n",
    "\n",
    "print(processedData)\n",
    "\n",
    "def predict(frature1, frature2, frature3, frature4):\n",
    "    probTrue = processedData[frature1+\"|T\"] * processedData[frature2+\"|T\"] * processedData[frature3+\"|T\"] * processedData[frature4+\"|T\"] * processedData[\"T\"]\n",
    "    probFalse = processedData[frature1+\"|F\"] * processedData[frature2+\"|F\"] * processedData[frature3+\"|F\"] * processedData[frature4+\"|F\"] * processedData[\"F\"]\n",
    "    percTrue = probTrue / (probTrue + probFalse)\n",
    "    percFalse = probFalse / (probTrue + probFalse)\n",
    "    if percTrue > percFalse:\n",
    "        print(\"Inflated = True.\\nProbability: \"+str(percTrue))\n",
    "    else:\n",
    "        print(\"Inflated = False.\\nProbability: \"+str(percFalse))"
   ]
  },
  {
   "cell_type": "code",
   "execution_count": 8,
   "metadata": {},
   "outputs": [
    {
     "name": "stdout",
     "output_type": "stream",
     "text": [
      "Inflated = True.\n",
      "Probability: 0.9662030118404414\n",
      "Inflated = False.\n",
      "Probability: 0.995766299745978\n"
     ]
    }
   ],
   "source": [
    "predict('YELLOW', 'SMALL', 'STRETCH', 'ADULT')\n",
    "predict('PURPLE', 'LARGE', 'DIP', 'CHILD')"
   ]
  }
 ],
 "metadata": {
  "kernelspec": {
   "display_name": "Python 3",
   "language": "python",
   "name": "python3"
  },
  "language_info": {
   "codemirror_mode": {
    "name": "ipython",
    "version": 3
   },
   "file_extension": ".py",
   "mimetype": "text/x-python",
   "name": "python",
   "nbconvert_exporter": "python",
   "pygments_lexer": "ipython3",
   "version": "3.7.1"
  }
 },
 "nbformat": 4,
 "nbformat_minor": 2
}
