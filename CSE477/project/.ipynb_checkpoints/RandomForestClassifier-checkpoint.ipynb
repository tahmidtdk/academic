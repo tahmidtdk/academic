{
 "cells": [
  {
   "cell_type": "code",
   "execution_count": 11,
   "metadata": {},
   "outputs": [],
   "source": [
    "import pandas as pd\n",
    "\n",
    "from sklearn.preprocessing import LabelEncoder\n",
    "from sklearn.model_selection import train_test_split\n",
    "from sklearn.ensemble import RandomForestClassifier\n",
    "from sklearn.metrics import accuracy_score"
   ]
  },
  {
   "cell_type": "code",
   "execution_count": 12,
   "metadata": {},
   "outputs": [],
   "source": [
    "# data reading from file\n",
    "dataset = pd.read_csv(r\"./balloons_dataset.csv\")"
   ]
  },
  {
   "cell_type": "code",
   "execution_count": 13,
   "metadata": {},
   "outputs": [
    {
     "data": {
      "text/html": [
       "<div>\n",
       "<style scoped>\n",
       "    .dataframe tbody tr th:only-of-type {\n",
       "        vertical-align: middle;\n",
       "    }\n",
       "\n",
       "    .dataframe tbody tr th {\n",
       "        vertical-align: top;\n",
       "    }\n",
       "\n",
       "    .dataframe thead th {\n",
       "        text-align: right;\n",
       "    }\n",
       "</style>\n",
       "<table border=\"1\" class=\"dataframe\">\n",
       "  <thead>\n",
       "    <tr style=\"text-align: right;\">\n",
       "      <th></th>\n",
       "      <th>color</th>\n",
       "      <th>size</th>\n",
       "      <th>act</th>\n",
       "      <th>age</th>\n",
       "      <th>inflated</th>\n",
       "    </tr>\n",
       "  </thead>\n",
       "  <tbody>\n",
       "    <tr>\n",
       "      <th>0</th>\n",
       "      <td>YELLOW</td>\n",
       "      <td>SMALL</td>\n",
       "      <td>STRETCH</td>\n",
       "      <td>ADULT</td>\n",
       "      <td>T</td>\n",
       "    </tr>\n",
       "    <tr>\n",
       "      <th>1</th>\n",
       "      <td>YELLOW</td>\n",
       "      <td>SMALL</td>\n",
       "      <td>STRETCH</td>\n",
       "      <td>ADULT</td>\n",
       "      <td>T</td>\n",
       "    </tr>\n",
       "    <tr>\n",
       "      <th>2</th>\n",
       "      <td>YELLOW</td>\n",
       "      <td>SMALL</td>\n",
       "      <td>STRETCH</td>\n",
       "      <td>ADULT</td>\n",
       "      <td>T</td>\n",
       "    </tr>\n",
       "    <tr>\n",
       "      <th>3</th>\n",
       "      <td>YELLOW</td>\n",
       "      <td>SMALL</td>\n",
       "      <td>STRETCH</td>\n",
       "      <td>ADULT</td>\n",
       "      <td>T</td>\n",
       "    </tr>\n",
       "    <tr>\n",
       "      <th>4</th>\n",
       "      <td>YELLOW</td>\n",
       "      <td>SMALL</td>\n",
       "      <td>STRETCH</td>\n",
       "      <td>ADULT</td>\n",
       "      <td>T</td>\n",
       "    </tr>\n",
       "  </tbody>\n",
       "</table>\n",
       "</div>"
      ],
      "text/plain": [
       "    color   size      act    age inflated\n",
       "0  YELLOW  SMALL  STRETCH  ADULT        T\n",
       "1  YELLOW  SMALL  STRETCH  ADULT        T\n",
       "2  YELLOW  SMALL  STRETCH  ADULT        T\n",
       "3  YELLOW  SMALL  STRETCH  ADULT        T\n",
       "4  YELLOW  SMALL  STRETCH  ADULT        T"
      ]
     },
     "execution_count": 13,
     "metadata": {},
     "output_type": "execute_result"
    }
   ],
   "source": [
    "dataset.head(5)"
   ]
  },
  {
   "cell_type": "code",
   "execution_count": 14,
   "metadata": {},
   "outputs": [
    {
     "data": {
      "text/plain": [
       "['color', 'size', 'act', 'age']"
      ]
     },
     "execution_count": 14,
     "metadata": {},
     "output_type": "execute_result"
    }
   ],
   "source": [
    "# assign the tranning columns x\n",
    "features = dataset.columns\n",
    "features = features.drop('inflated')\n",
    "features = list(features)\n",
    "features"
   ]
  },
  {
   "cell_type": "code",
   "execution_count": 15,
   "metadata": {},
   "outputs": [
    {
     "name": "stdout",
     "output_type": "stream",
     "text": [
      "Total Training data: 90\n",
      "Total Test data: 10\n"
     ]
    }
   ],
   "source": [
    "# split the dataset for traning and testing\n",
    "train, test = train_test_split(dataset,test_size = 0.10)\n",
    "print(\"Total Training data: \"+ str(len(train)))\n",
    "print(\"Total Test data: \"+ str(len(test)))"
   ]
  },
  {
   "cell_type": "code",
   "execution_count": 16,
   "metadata": {},
   "outputs": [],
   "source": [
    "#assian datasets for traning\n",
    "x_train = train[features]\n",
    "y_train = train[\"inflated\"]\n",
    "#assian datasets for testing\n",
    "x_test, x_test_decodeed = test[features], test[features]\n",
    "y_test = test[\"inflated\"]"
   ]
  },
  {
   "cell_type": "code",
   "execution_count": 17,
   "metadata": {},
   "outputs": [],
   "source": [
    "# preprocession datasets and encoding\n",
    "x_train = x_train.apply(LabelEncoder().fit_transform)\n",
    "x_test = x_test.apply(LabelEncoder().fit_transform)"
   ]
  },
  {
   "cell_type": "code",
   "execution_count": 18,
   "metadata": {},
   "outputs": [
    {
     "data": {
      "text/plain": [
       "RandomForestClassifier(bootstrap=True, class_weight=None, criterion='gini',\n",
       "            max_depth=2, max_features='auto', max_leaf_nodes=None,\n",
       "            min_impurity_decrease=0.0, min_impurity_split=None,\n",
       "            min_samples_leaf=1, min_samples_split=2,\n",
       "            min_weight_fraction_leaf=0.0, n_estimators=100, n_jobs=None,\n",
       "            oob_score=False, random_state=0, verbose=0, warm_start=False)"
      ]
     },
     "execution_count": 18,
     "metadata": {},
     "output_type": "execute_result"
    }
   ],
   "source": [
    "clf = RandomForestClassifier(n_estimators=100, max_depth=2, random_state=0)\n",
    "clf.fit(x_train, y_train)"
   ]
  },
  {
   "cell_type": "code",
   "execution_count": 19,
   "metadata": {},
   "outputs": [
    {
     "name": "stdout",
     "output_type": "stream",
     "text": [
      "     color   size      act    age inflated\n",
      "80  PURPLE  LARGE  STRETCH  ADULT        T\n",
      "82  PURPLE  LARGE  STRETCH  ADULT        T\n",
      "98  PURPLE  LARGE      DIP  CHILD        F\n",
      "26  YELLOW  LARGE  STRETCH  ADULT        T\n",
      "43  YELLOW  LARGE      DIP  ADULT        F\n",
      "57  PURPLE  SMALL  STRETCH  ADULT        T\n",
      "18  YELLOW  SMALL      DIP  ADULT        F\n",
      "3   YELLOW  SMALL  STRETCH  ADULT        T\n",
      "8   YELLOW  SMALL  STRETCH  ADULT        T\n",
      "34  YELLOW  LARGE  STRETCH  ADULT        T\n"
     ]
    }
   ],
   "source": [
    "# predict the target class\n",
    "y_pred = clf.predict(x_test)\n",
    "\n",
    "# decoding datasets\n",
    "dataset_pred = x_test_decodeed\n",
    "\n",
    "dataset_pred['inflated'] = (y_pred)\n",
    "print(dataset_pred)"
   ]
  },
  {
   "cell_type": "code",
   "execution_count": 20,
   "metadata": {},
   "outputs": [
    {
     "name": "stdout",
     "output_type": "stream",
     "text": [
      "Accuracy using desicion Tree:  100.0 %\n"
     ]
    }
   ],
   "source": [
    "score = accuracy_score(y_test, y_pred) * 100\n",
    "print(\"Accuracy using desicion Tree: \", round(score, 1), \"%\" )"
   ]
  }
 ],
 "metadata": {
  "kernelspec": {
   "display_name": "Python 3",
   "language": "python",
   "name": "python3"
  },
  "language_info": {
   "codemirror_mode": {
    "name": "ipython",
    "version": 3
   },
   "file_extension": ".py",
   "mimetype": "text/x-python",
   "name": "python",
   "nbconvert_exporter": "python",
   "pygments_lexer": "ipython3",
   "version": "3.7.1"
  }
 },
 "nbformat": 4,
 "nbformat_minor": 2
}
