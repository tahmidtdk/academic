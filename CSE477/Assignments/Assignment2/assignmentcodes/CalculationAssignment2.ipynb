{
 "cells": [
  {
   "cell_type": "code",
   "execution_count": 1,
   "metadata": {},
   "outputs": [],
   "source": [
    "# Github: http://shaykhsiddique.me\n",
    "import numpy as np\n",
    "import matplotlib.pyplot as plt\n",
    "import math\n",
    "%matplotlib inline"
   ]
  },
  {
   "cell_type": "code",
   "execution_count": 2,
   "metadata": {},
   "outputs": [],
   "source": [
    "# define a suitable object controller\n",
    "class ContinuousDatasets:\n",
    "    def __init__(self, ages, fnlwgt, education_num, capital_gain, capital_loss, hours_per_week):\n",
    "        #constructor for ContinuousDatasets\n",
    "        #ensure that the list of data is always numeric using map\n",
    "        self.ages = list(map(int, ages))\n",
    "        self.fnlwgt = list(map(int, fnlwgt))\n",
    "        self.education_num = list(map(int, education_num))\n",
    "        self.capital_gain = list(map(int, capital_gain))\n",
    "        self.capital_loss = list(map(int, capital_loss))\n",
    "        self.hours_per_week = list(map(int, hours_per_week))\n",
    "    def getAges(self):\n",
    "        return self.ages\n",
    "    def getFnlwgt(self):\n",
    "        return self.fnlwgt\n",
    "    def getEducation_num(self):\n",
    "        return self.education_num\n",
    "    def getCapital_gain(self):\n",
    "        return self.capital_gain\n",
    "    def getCapital_loss(self):\n",
    "        return self.capital_loss\n",
    "    def getHours_per_week(self):\n",
    "        return self.hours_per_week\n",
    "        "
   ]
  },
  {
   "cell_type": "code",
   "execution_count": 3,
   "metadata": {},
   "outputs": [
    {
     "name": "stdout",
     "output_type": "stream",
     "text": [
      "['39' ' State-gov' ' 77516' ' Bachelors' ' 13' ' Never-married'\n",
      " ' Adm-clerical' ' Not-in-family' ' White' ' Male' ' 2174' ' 0' ' 40'\n",
      " ' United-States' ' <=50K']\n"
     ]
    }
   ],
   "source": [
    "datafile = np.loadtxt('adult.data', dtype='str', delimiter=',')\n",
    "# print a record to check file loading is sucessful or not\n",
    "print(datafile[0])"
   ]
  },
  {
   "cell_type": "code",
   "execution_count": 4,
   "metadata": {},
   "outputs": [
    {
     "name": "stdout",
     "output_type": "stream",
     "text": [
      "Number of Record: 32561\n"
     ]
    }
   ],
   "source": [
    "# load data into object to make calculation easier \n",
    "all_objs = ContinuousDatasets(datafile[:,0], datafile[:,2], datafile[:,4], datafile[:,10], datafile[:,11], datafile[:,12])\n",
    "Obj_graph = ContinuousDatasets(datafile[:,0], datafile[:,2], datafile[:,4], datafile[:,10], datafile[:,11], datafile[:,12])\n",
    "data_len = len(all_objs.getAges())\n",
    "print(\"Number of Record: \"+str(data_len))"
   ]
  },
  {
   "cell_type": "code",
   "execution_count": 5,
   "metadata": {},
   "outputs": [
    {
     "name": "stdout",
     "output_type": "stream",
     "text": [
      "Average:- \n",
      "\tAge: 38.58164675532078\n",
      "\tFnlwgt: 189778.36651208502\n",
      "\tEducation Num: 10.0806793403151\n",
      "\tCapital Gain: 1077.6488437087312\n",
      "\tCapital Loss: 87.303829734959\n",
      "\tHours-per-week: 40.437455852092995\n"
     ]
    }
   ],
   "source": [
    "# calculating Average\n",
    "def avg_calculation(data):\n",
    "    age_sum = 0;\n",
    "    for val in data:\n",
    "        age_sum+=val\n",
    "    return age_sum/(data_len)\n",
    "\n",
    "\n",
    "# for all feature call the avg_calculation function\n",
    "avg_age = avg_calculation(all_objs.getAges())\n",
    "avg_fnlwgt = avg_calculation(all_objs.getFnlwgt())\n",
    "avg_education_num = avg_calculation(all_objs.getEducation_num())\n",
    "avg_capital_gain = avg_calculation(all_objs.getCapital_gain())\n",
    "avg_capital_loss = avg_calculation(all_objs.getCapital_loss())\n",
    "avg_hours_per_week = avg_calculation(all_objs.getHours_per_week())\n",
    "# print all values\n",
    "print(\"Average:- \")\n",
    "print(\"\\tAge: \"+str(avg_age))\n",
    "print(\"\\tFnlwgt: \"+str(avg_fnlwgt))\n",
    "print(\"\\tEducation Num: \"+str(avg_education_num))\n",
    "print(\"\\tCapital Gain: \"+str(avg_capital_gain))\n",
    "print(\"\\tCapital Loss: \"+str(avg_capital_loss))\n",
    "print(\"\\tHours-per-week: \"+str(avg_hours_per_week))"
   ]
  },
  {
   "cell_type": "code",
   "execution_count": 6,
   "metadata": {},
   "outputs": [
    {
     "name": "stdout",
     "output_type": "stream",
     "text": [
      "Age:-\n",
      "\tMedian : 37\n",
      "\tMaximum : 90\n",
      "\tMinimum : 17\n",
      "\n",
      "Fnlwgt:-\n",
      "\tMedian : 178370\n",
      "\tMaximum : 1484705\n",
      "\tMinimum : 12285\n",
      "\n",
      "Education Num:-\n",
      "\tMedian : 10\n",
      "\tMaximum : 16\n",
      "\tMinimum : 1\n",
      "\n",
      "Capital Gain:-\n",
      "\tMedian : 0\n",
      "\tMaximum : 99999\n",
      "\tMinimum : 0\n",
      "\n",
      "Capital Loss:-\n",
      "\tMedian : 0\n",
      "\tMaximum : 4356\n",
      "\tMinimum : 0\n",
      "\n",
      "Hours-per-week:-\n",
      "\tMedian : 40\n",
      "\tMaximum : 99\n",
      "\tMinimum : 1\n",
      "\n"
     ]
    }
   ],
   "source": [
    "# calculating Max, Min, Median\n",
    "def calculating_medianMaxMin(feature, data):\n",
    "    data.sort()\n",
    "    med_indx = int(data_len/2)+1\n",
    "    print(feature+\":-\")\n",
    "    print(\"\\tMedian \" + \": \"+ str(data[med_indx]))\n",
    "    print(\"\\tMaximum \" + \": \"+ str(max(data)))\n",
    "    print(\"\\tMinimum \" + \": \"+ str(min(data))+\"\\n\")\n",
    "\n",
    "# Call functions- max, min, median\n",
    "calculating_medianMaxMin(\"Age\", all_objs.getAges())\n",
    "calculating_medianMaxMin(\"Fnlwgt\", all_objs.getFnlwgt())\n",
    "calculating_medianMaxMin(\"Education Num\", all_objs.getEducation_num())\n",
    "calculating_medianMaxMin(\"Capital Gain\", all_objs.getCapital_gain())\n",
    "calculating_medianMaxMin(\"Capital Loss\", all_objs.getCapital_loss())\n",
    "calculating_medianMaxMin(\"Hours-per-week\", all_objs.getHours_per_week())"
   ]
  },
  {
   "cell_type": "code",
   "execution_count": 7,
   "metadata": {},
   "outputs": [
    {
     "name": "stdout",
     "output_type": "stream",
     "text": [
      "standard deviation:-\n",
      "\tAge: 13.640223092303957\n",
      "\tFnlwgt: 105548.35688089058\n",
      "\tEducation Num: 2.5726808256012275\n",
      "\tCapital Gain: 7385.178676947581\n",
      "\tCapital Loss: 402.9540308274799\n",
      "\tHours-per-week: 12.347239075705962\n"
     ]
    }
   ],
   "source": [
    "# calculating standard deviation sqrt(sum(v[i]*v[i])/n) where i=0 to n-1\n",
    "def std_dev(data, avg):\n",
    "    total_val = 0\n",
    "    for val in data:\n",
    "        temp = val-avg\n",
    "        total_val += (temp*temp)\n",
    "    return math.sqrt(total_val/data_len)\n",
    "\n",
    "\n",
    "# calling the standard deviation function for each continuous features\n",
    "print(\"standard deviation:-\")\n",
    "print(\"\\tAge: \"+str(std_dev(all_objs.getAges(), avg_age)))\n",
    "print(\"\\tFnlwgt: \"+str(std_dev(all_objs.getFnlwgt(), avg_fnlwgt)))\n",
    "print(\"\\tEducation Num: \"+str(std_dev(all_objs.getEducation_num(), avg_education_num)))\n",
    "print(\"\\tCapital Gain: \"+str(std_dev(all_objs.getCapital_gain(), avg_capital_gain)))\n",
    "print(\"\\tCapital Loss: \"+str(std_dev(all_objs.getCapital_loss(), avg_capital_loss)))\n",
    "print(\"\\tHours-per-week: \"+str(std_dev(all_objs.getHours_per_week(), avg_hours_per_week)))"
   ]
  },
  {
   "cell_type": "code",
   "execution_count": 8,
   "metadata": {},
   "outputs": [
    {
     "data": {
      "image/png": "[encoded data removed]",
      "text/plain": [
       "<Figure size 720x360 with 1 Axes>"
      ]
     },
     "metadata": {
      "needs_background": "light"
     },
     "output_type": "display_data"
    }
   ],
   "source": [
    "# scatter plot - 1 getEducation_num vs getCapital_gain\n",
    "plt.figure(figsize=(10,5))\n",
    "plt.scatter(Obj_graph.getEducation_num(), Obj_graph.getCapital_gain())\n",
    "plt.title(\"Education-Num vs Capital Gain Positive Correlation\")\n",
    "plt.xlabel(\"Education-Num\")\n",
    "plt.ylabel(\"Capital Gain\")\n",
    "plt.show()"
   ]
  },
  {
   "cell_type": "code",
   "execution_count": 9,
   "metadata": {},
   "outputs": [
    {
     "data": {
      "image/png": "[encoded data removed]",
      "text/plain": [
       "<Figure size 720x360 with 1 Axes>"
      ]
     },
     "metadata": {
      "needs_background": "light"
     },
     "output_type": "display_data"
    }
   ],
   "source": [
    "# scatter plot - 2 age vs Fnlwgt\n",
    "plt.figure(figsize=(10,5))\n",
    "plt.scatter(Obj_graph.getFnlwgt(), Obj_graph.getAges())\n",
    "plt.title(\"Fnlwgt vs Age Negetive Correlation\")\n",
    "plt.xlabel(\"Fnlwgt\")\n",
    "plt.ylabel(\"Age\")\n",
    "plt.show()"
   ]
  },
  {
   "cell_type": "code",
   "execution_count": 10,
   "metadata": {},
   "outputs": [],
   "source": [
    "# function for numeric dissimilarity calculation\n",
    "def numericDissimilarity(value1, value2, max_val, min_val):\n",
    "    upper_val = abs(value1-value2)\n",
    "    lower_val = max_val-min_val\n",
    "    return(upper_val/lower_val)\n",
    "     \n",
    "#function for nominal dissimilarity calculation as well as it work's for binary\n",
    "def nominalDissimilarity(data1, data2):\n",
    "    if(data1==data2):\n",
    "        return 0\n",
    "    else:\n",
    "        return 1\n"
   ]
  },
  {
   "cell_type": "code",
   "execution_count": 11,
   "metadata": {},
   "outputs": [
    {
     "name": "stdout",
     "output_type": "stream",
     "text": [
      "Record1: ['39' ' State-gov' ' 77516' ' Bachelors' ' 13' ' Never-married'\n",
      " ' Adm-clerical' ' Not-in-family' ' White' ' Male' ' 2174' ' 0' ' 40'\n",
      " ' United-States' ' <=50K']\n",
      "Record2: ['47' ' Private' ' 51835' ' Prof-school' ' 15' ' Married-civ-spouse'\n",
      " ' Prof-specialty' ' Wife' ' White' ' Female' ' 0' ' 1902' ' 60'\n",
      " ' Honduras' ' >50K']\n",
      "\n",
      "\n",
      "Dissimilarity: 0.2862725560442913\n"
     ]
    }
   ],
   "source": [
    "# calculating dissimilarity\n",
    "def calculate_dissimilarity(record1, record2, numOfFeature):\n",
    "    all_dist =0\n",
    "#     call for ages and the index is the column number\n",
    "    all_dist += numericDissimilarity(int(record1[0]), int(record2[0]), max(all_objs.getAges()), min(all_objs.getAges()))\n",
    "#     call of workclass nominal data\n",
    "    all_dist += int(nominalDissimilarity(str(record1[1]), str(record2[1])))\n",
    "#     call of Fnlwg\n",
    "    all_dist += numericDissimilarity(int(record1[2]), int(record2[2]), max(all_objs.getFnlwgt()), min(all_objs.getFnlwgt()))\n",
    "#     call of education\n",
    "    all_dist += int(nominalDissimilarity(str(record1[3]), str(record2[3])))\n",
    "#     call of education-num\n",
    "    all_dist += numericDissimilarity(int(record1[4]), int(record2[4]), max(all_objs.getEducation_num()), min(all_objs.getEducation_num()))\n",
    "#     marital-status\n",
    "    all_dist += int(nominalDissimilarity(str(record1[5]), str(record2[5])))\n",
    "#     occupation\n",
    "    all_dist += int(nominalDissimilarity(str(record1[6]), str(record2[6])))\n",
    "#     relationship\n",
    "    all_dist += int(nominalDissimilarity(str(record1[7]), str(record2[7])))\n",
    "#     race\n",
    "    all_dist += int(nominalDissimilarity(str(record1[8]), str(record2[8])))\n",
    "#     sex\n",
    "    all_dist += int(nominalDissimilarity(str(record1[9]), str(record2[9])))\n",
    "#     capital gain\n",
    "    all_dist += numericDissimilarity(int(record1[10]), int(record2[10]), max(all_objs.getCapital_gain()), min(all_objs.getCapital_gain()))\n",
    "#     capital loss\n",
    "    all_dist += numericDissimilarity(int(record1[11]), int(record2[11]), max(all_objs.getCapital_loss()), min(all_objs.getCapital_loss()))\n",
    "#     hours-per-week\n",
    "    all_dist += numericDissimilarity(int(record1[12]), int(record2[12]), max(all_objs.getCapital_loss()), min(all_objs.getCapital_loss()))\n",
    "#     native-country\n",
    "    all_dist += int(nominalDissimilarity(str(record1[13]), str(record2[13])))\n",
    "#     salary\n",
    "    all_dist += int(nominalDissimilarity(str(record1[14]), str(record2[14])))\n",
    "    return (all_dist/numOfFeature)\n",
    "    \n",
    "    \n",
    "print(\"Record1: \"+str(datafile[0]))\n",
    "print(\"Record2: \"+str(datafile[52]))\n",
    "\n",
    "# comparing 1st and 53th record \n",
    "print(\"\\n\\nDissimilarity: \"+str(calculate_dissimilarity(datafile[0], datafile[53], 15)))"
   ]
  }
 ],
 "metadata": {
  "kernelspec": {
   "display_name": "Python 3",
   "language": "python",
   "name": "python3"
  },
  "language_info": {
   "codemirror_mode": {
    "name": "ipython",
    "version": 3
   },
   "file_extension": ".py",
   "mimetype": "text/x-python",
   "name": "python",
   "nbconvert_exporter": "python",
   "pygments_lexer": "ipython3",
   "version": "3.7.1"
  }
 },
 "nbformat": 4,
 "nbformat_minor": 2
}
